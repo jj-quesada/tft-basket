{
 "cells": [
  {
   "cell_type": "markdown",
   "metadata": {},
   "source": [
    "Comprobación de PyTorch y uso de la GPU"
   ]
  },
  {
   "cell_type": "code",
   "execution_count": null,
   "metadata": {},
   "outputs": [],
   "source": [
    "import torch\n",
    "\n",
    "print(f\"Versión de PyTorch: {torch.__version__}\")\n",
    "print(f\"Versión de CUDA en PyTorch: {torch.version.cuda}\")\n",
    "print(f\"¿CUDA está disponible?: {torch.cuda.is_available()}\")\n",
    "print(torch.cuda.get_device_name(0))"
   ]
  },
  {
   "cell_type": "code",
   "execution_count": null,
   "metadata": {},
   "outputs": [],
   "source": [
    "from ultralytics import YOLO\n",
    "\n",
    "model = YOLO(\"yolo11n-seg.pt\")\n",
    "\n",
    "results = model.train(data=\"./datasets/basketball_court_zones_segmentation_v2/data.yaml\", imgsz=640, batch=8, device=0, epochs=60, task=\"segment\")"
   ]
  },
  {
   "cell_type": "markdown",
   "metadata": {},
   "source": [
    "Código reutilizado de BCT"
   ]
  },
  {
   "cell_type": "code",
   "execution_count": null,
   "metadata": {},
   "outputs": [],
   "source": [
    "import cv2\n",
    "import numpy as np\n",
    "from ultralytics import YOLO  #Necesario para detectar con YOLO\n",
    "\n",
    "#Intersección enter dos líneas\n",
    "def line_intersection(line1, line2):\n",
    "    x1, y1, x2, y2 = line1\n",
    "    x3, y3, x4, y4 = line2\n",
    "\n",
    "    # Calcular  pendientes e intersecciones\n",
    "    denom = (x1 - x2) * (y3 - y4) - (y1 - y2) * (x3 - x4)\n",
    "    if denom == 0:  # Líneas paralelas o coincidentes\n",
    "        return None\n",
    "\n",
    "    intersect_x = ((x1 * y2 - y1 * x2) * (x3 - x4) - (x1 - x2) * (x3 * y4 - y3 * x4)) / denom\n",
    "    intersect_y = ((x1 * y2 - y1 * x2) * (y3 - y4) - (y1 - y2) * (x3 * y4 - y3 * x4)) / denom\n",
    "\n",
    "    return (intersect_x, intersect_y)\n",
    "\n",
    "#Comprueba que el punto esté dentro de la imagen\n",
    "def is_within_image(point, image_width, image_height):\n",
    "    x, y = point\n",
    "    return 0 <= x < image_width and 0 <= y < image_height\n",
    "\n",
    "\n",
    "# Cargar el modelo YOLO entrenado\n",
    "model = YOLO(\"./runs/segment/train/weights/best.pt\")\n",
    "\n",
    "video_path = \"../clips/Clip1LF.mp4\"\n",
    "# Cargar el video de entrada\n",
    "cap = cv2.VideoCapture(video_path)\n",
    "\n",
    "# Obtener detalles del video\n",
    "fourcc = cv2.VideoWriter_fourcc(*\"avc1\")  # Codec para el video de salida\n",
    "fps = int(cap.get(cv2.CAP_PROP_FPS))\n",
    "width = int(cap.get(cv2.CAP_PROP_FRAME_WIDTH))\n",
    "height = int(cap.get(cv2.CAP_PROP_FRAME_HEIGHT))\n",
    "\n",
    "while cap.isOpened():\n",
    "    ret, frame = cap.read()\n",
    "    if not ret:\n",
    "        break\n",
    "\n",
    "    # Realizar detección en el frame\n",
    "    results = model(frame)\n",
    "    # Dimensiones del frame original\n",
    "    frame_height, frame_width = frame.shape[:2]\n",
    "\n",
    "    # Iterar sobre los resultados\n",
    "    for result in results:\n",
    "        masks = result.masks.data.cpu().numpy()  # Máscaras (NumPy array)\n",
    "        classes = result.boxes.cls.cpu().numpy()  # Clases detectadas\n",
    "        boxes = result.boxes.xyxy.cpu().numpy()  # Bounding boxes\n",
    "        image = frame.copy()  # Crear copia del frame original para visualización\n",
    "\n",
    "        # Aplicar y mostrar máscaras\n",
    "        for i, cls in enumerate(classes):\n",
    "            if model.names[cls] == 'paint':\n",
    "                # Redimensionar la máscara al tamaño del frame original\n",
    "                zone_mask = (masks[i] * 255).astype(np.uint8)  # Escalar la máscara (0-255)\n",
    "                resized_zone_mask = cv2.resize(zone_mask, (frame_width, frame_height), interpolation=cv2.INTER_NEAREST)\n",
    "\n",
    "                # Superponer la máscara en el frame original\n",
    "                image[resized_zone_mask > 0] = (0, 0, 255)  # Rojo\n",
    "\n",
    "\n",
    "    # Mostrar la zona en pantalla\n",
    "    cv2.imshow(\"La zona\", image)\n",
    "    # Esperar por una tecla: espacio para avanzar, 'q' para salir\n",
    "    key = cv2.waitKey(0) & 0xFF  # Espera indefinidamente hasta que se presione una tecla\n",
    "    if key == ord('q'):\n",
    "        break\n",
    "\n",
    "# Liberar recursos\n",
    "cap.release()\n",
    "\n",
    "cv2.destroyAllWindows()\n",
    "\n",
    "# Esperar a que se presione una tecla y cerrar ventana\n",
    "cv2.waitKey(0)\n",
    "\n",
    "cv2.destroyAllWindows()"
   ]
  }
 ],
 "metadata": {
  "kernelspec": {
   "display_name": "tft",
   "language": "python",
   "name": "python3"
  },
  "language_info": {
   "codemirror_mode": {
    "name": "ipython",
    "version": 3
   },
   "file_extension": ".py",
   "mimetype": "text/x-python",
   "name": "python",
   "nbconvert_exporter": "python",
   "pygments_lexer": "ipython3",
   "version": "3.12.9"
  }
 },
 "nbformat": 4,
 "nbformat_minor": 2
}
