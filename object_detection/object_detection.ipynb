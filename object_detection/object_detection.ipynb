{
 "cells": [
  {
   "cell_type": "markdown",
   "metadata": {},
   "source": [
    "Comprobación de PyTorch y uso de la GPU"
   ]
  },
  {
   "cell_type": "code",
   "execution_count": 1,
   "metadata": {},
   "outputs": [
    {
     "name": "stdout",
     "output_type": "stream",
     "text": [
      "Versión de PyTorch: 2.5.1\n",
      "Versión de CUDA en PyTorch: 12.4\n",
      "¿CUDA está disponible?: True\n",
      "NVIDIA GeForce RTX 3060 Laptop GPU\n"
     ]
    }
   ],
   "source": [
    "import torch\n",
    "\n",
    "print(f\"Versión de PyTorch: {torch.__version__}\")\n",
    "print(f\"Versión de CUDA en PyTorch: {torch.version.cuda}\")\n",
    "print(f\"¿CUDA está disponible?: {torch.cuda.is_available()}\")\n",
    "print(torch.cuda.get_device_name(0))"
   ]
  },
  {
   "cell_type": "markdown",
   "metadata": {},
   "source": [
    "Entrenamiento de las redes"
   ]
  },
  {
   "cell_type": "code",
   "execution_count": 2,
   "metadata": {},
   "outputs": [
    {
     "name": "stdout",
     "output_type": "stream",
     "text": [
      "Downloading https://github.com/ultralytics/assets/releases/download/v8.3.0/yolo11n.pt to 'yolo11n.pt'...\n"
     ]
    },
    {
     "name": "stderr",
     "output_type": "stream",
     "text": [
      "100%|██████████| 5.35M/5.35M [00:00<00:00, 21.3MB/s]\n"
     ]
    },
    {
     "name": "stdout",
     "output_type": "stream",
     "text": [
      "New https://pypi.org/project/ultralytics/8.3.83 available  Update with 'pip install -U ultralytics'\n",
      "Ultralytics 8.3.49  Python-3.12.9 torch-2.5.1 CUDA:0 (NVIDIA GeForce RTX 3060 Laptop GPU, 6144MiB)\n",
      "\u001b[34m\u001b[1mengine\\trainer: \u001b[0mtask=detect, mode=train, model=yolo11n.pt, data=./datasets/bod_v1/data.yaml, epochs=100, time=None, patience=100, batch=8, imgsz=1024, save=True, save_period=-1, cache=False, device=0, workers=8, project=None, name=train, exist_ok=False, pretrained=True, optimizer=SGD, verbose=True, seed=0, deterministic=True, single_cls=False, rect=False, cos_lr=False, close_mosaic=10, resume=False, amp=True, fraction=1.0, profile=False, freeze=None, multi_scale=False, overlap_mask=True, mask_ratio=4, dropout=0.0, val=True, split=val, save_json=False, save_hybrid=False, conf=None, iou=0.7, max_det=300, half=False, dnn=False, plots=True, source=None, vid_stride=1, stream_buffer=False, visualize=False, augment=False, agnostic_nms=False, classes=None, retina_masks=False, embed=None, show=False, save_frames=False, save_txt=False, save_conf=False, save_crop=False, show_labels=True, show_conf=True, show_boxes=True, line_width=None, format=torchscript, keras=False, optimize=False, int8=False, dynamic=False, simplify=True, opset=None, workspace=None, nms=False, lr0=0.01, lrf=0.1, momentum=0.937, weight_decay=0.0005, warmup_epochs=3.0, warmup_momentum=0.8, warmup_bias_lr=0.1, box=7.5, cls=0.5, dfl=1.5, pose=12.0, kobj=1.0, nbs=64, hsv_h=0.015, hsv_s=0.7, hsv_v=0.4, degrees=0.0, translate=0.1, scale=0.5, shear=0.0, perspective=0.0, flipud=0.0, fliplr=0.5, bgr=0.0, mosaic=1.0, mixup=0.0, copy_paste=0.0, copy_paste_mode=flip, auto_augment=randaugment, erasing=0.4, crop_fraction=1.0, cfg=None, tracker=botsort.yaml, save_dir=runs\\detect\\train\n",
      "Overriding model.yaml nc=80 with nc=4\n",
      "\n",
      "                   from  n    params  module                                       arguments                     \n",
      "  0                  -1  1       464  ultralytics.nn.modules.conv.Conv             [3, 16, 3, 2]                 \n",
      "  1                  -1  1      4672  ultralytics.nn.modules.conv.Conv             [16, 32, 3, 2]                \n",
      "  2                  -1  1      6640  ultralytics.nn.modules.block.C3k2            [32, 64, 1, False, 0.25]      \n",
      "  3                  -1  1     36992  ultralytics.nn.modules.conv.Conv             [64, 64, 3, 2]                \n",
      "  4                  -1  1     26080  ultralytics.nn.modules.block.C3k2            [64, 128, 1, False, 0.25]     \n",
      "  5                  -1  1    147712  ultralytics.nn.modules.conv.Conv             [128, 128, 3, 2]              \n",
      "  6                  -1  1     87040  ultralytics.nn.modules.block.C3k2            [128, 128, 1, True]           \n",
      "  7                  -1  1    295424  ultralytics.nn.modules.conv.Conv             [128, 256, 3, 2]              \n",
      "  8                  -1  1    346112  ultralytics.nn.modules.block.C3k2            [256, 256, 1, True]           \n",
      "  9                  -1  1    164608  ultralytics.nn.modules.block.SPPF            [256, 256, 5]                 \n",
      " 10                  -1  1    249728  ultralytics.nn.modules.block.C2PSA           [256, 256, 1]                 \n",
      " 11                  -1  1         0  torch.nn.modules.upsampling.Upsample         [None, 2, 'nearest']          \n",
      " 12             [-1, 6]  1         0  ultralytics.nn.modules.conv.Concat           [1]                           \n",
      " 13                  -1  1    111296  ultralytics.nn.modules.block.C3k2            [384, 128, 1, False]          \n",
      " 14                  -1  1         0  torch.nn.modules.upsampling.Upsample         [None, 2, 'nearest']          \n",
      " 15             [-1, 4]  1         0  ultralytics.nn.modules.conv.Concat           [1]                           \n",
      " 16                  -1  1     32096  ultralytics.nn.modules.block.C3k2            [256, 64, 1, False]           \n",
      " 17                  -1  1     36992  ultralytics.nn.modules.conv.Conv             [64, 64, 3, 2]                \n",
      " 18            [-1, 13]  1         0  ultralytics.nn.modules.conv.Concat           [1]                           \n",
      " 19                  -1  1     86720  ultralytics.nn.modules.block.C3k2            [192, 128, 1, False]          \n",
      " 20                  -1  1    147712  ultralytics.nn.modules.conv.Conv             [128, 128, 3, 2]              \n",
      " 21            [-1, 10]  1         0  ultralytics.nn.modules.conv.Concat           [1]                           \n",
      " 22                  -1  1    378880  ultralytics.nn.modules.block.C3k2            [384, 256, 1, True]           \n",
      " 23        [16, 19, 22]  1    431452  ultralytics.nn.modules.head.Detect           [4, [64, 128, 256]]           \n",
      "YOLO11n summary: 319 layers, 2,590,620 parameters, 2,590,604 gradients, 6.4 GFLOPs\n",
      "\n",
      "Transferred 448/499 items from pretrained weights\n",
      "Freezing layer 'model.23.dfl.conv.weight'\n",
      "\u001b[34m\u001b[1mAMP: \u001b[0mrunning Automatic Mixed Precision (AMP) checks...\n",
      "\u001b[34m\u001b[1mAMP: \u001b[0mchecks passed \n"
     ]
    },
    {
     "name": "stderr",
     "output_type": "stream",
     "text": [
      "\u001b[34m\u001b[1mtrain: \u001b[0mScanning C:\\Users\\JJ\\Desktop\\TFT\\object_detection\\datasets\\bod_v1\\train\\labels... 3265 images, 0 backgrounds, 0 corrupt: 100%|██████████| 3265/3265 [00:04<00:00, 717.57it/s]\n"
     ]
    },
    {
     "name": "stdout",
     "output_type": "stream",
     "text": [
      "\u001b[34m\u001b[1mtrain: \u001b[0mNew cache created: C:\\Users\\JJ\\Desktop\\TFT\\object_detection\\datasets\\bod_v1\\train\\labels.cache\n"
     ]
    },
    {
     "name": "stderr",
     "output_type": "stream",
     "text": [
      "\u001b[34m\u001b[1mval: \u001b[0mScanning C:\\Users\\JJ\\Desktop\\TFT\\object_detection\\datasets\\bod_v1\\valid\\labels... 187 images, 0 backgrounds, 0 corrupt: 100%|██████████| 187/187 [00:00<00:00, 314.92it/s]\n"
     ]
    },
    {
     "name": "stdout",
     "output_type": "stream",
     "text": [
      "\u001b[34m\u001b[1mval: \u001b[0mNew cache created: C:\\Users\\JJ\\Desktop\\TFT\\object_detection\\datasets\\bod_v1\\valid\\labels.cache\n",
      "Plotting labels to runs\\detect\\train\\labels.jpg... \n",
      "\u001b[34m\u001b[1moptimizer:\u001b[0m SGD(lr=0.01, momentum=0.937) with parameter groups 81 weight(decay=0.0), 88 weight(decay=0.0005), 87 bias(decay=0.0)\n",
      "Image sizes 1024 train, 1024 val\n",
      "Using 8 dataloader workers\n",
      "Logging results to \u001b[1mruns\\detect\\train\u001b[0m\n",
      "Starting training for 100 epochs...\n",
      "\n",
      "      Epoch    GPU_mem   box_loss   cls_loss   dfl_loss  Instances       Size\n"
     ]
    },
    {
     "name": "stderr",
     "output_type": "stream",
     "text": [
      "      1/100      3.46G      1.461          2      1.254         12       1024: 100%|██████████| 409/409 [01:26<00:00,  4.74it/s]\n",
      "                 Class     Images  Instances      Box(P          R      mAP50  mAP50-95): 100%|██████████| 12/12 [00:02<00:00,  4.74it/s]"
     ]
    },
    {
     "name": "stdout",
     "output_type": "stream",
     "text": [
      "                   all        187       1799      0.697      0.634      0.656      0.368\n"
     ]
    },
    {
     "name": "stderr",
     "output_type": "stream",
     "text": [
      "\n"
     ]
    },
    {
     "name": "stdout",
     "output_type": "stream",
     "text": [
      "\n",
      "      Epoch    GPU_mem   box_loss   cls_loss   dfl_loss  Instances       Size\n"
     ]
    },
    {
     "name": "stderr",
     "output_type": "stream",
     "text": [
      "      2/100       3.4G      1.299      1.278      1.134         20       1024: 100%|██████████| 409/409 [01:17<00:00,  5.30it/s]\n",
      "                 Class     Images  Instances      Box(P          R      mAP50  mAP50-95): 100%|██████████| 12/12 [00:02<00:00,  5.29it/s]"
     ]
    },
    {
     "name": "stdout",
     "output_type": "stream",
     "text": [
      "                   all        187       1799      0.702      0.706      0.731      0.421\n"
     ]
    },
    {
     "name": "stderr",
     "output_type": "stream",
     "text": [
      "\n"
     ]
    },
    {
     "name": "stdout",
     "output_type": "stream",
     "text": [
      "\n",
      "      Epoch    GPU_mem   box_loss   cls_loss   dfl_loss  Instances       Size\n"
     ]
    },
    {
     "name": "stderr",
     "output_type": "stream",
     "text": [
      "      3/100      3.22G      1.305       1.18      1.132         12       1024: 100%|██████████| 409/409 [01:15<00:00,  5.39it/s]\n",
      "                 Class     Images  Instances      Box(P          R      mAP50  mAP50-95): 100%|██████████| 12/12 [00:02<00:00,  5.43it/s]"
     ]
    },
    {
     "name": "stdout",
     "output_type": "stream",
     "text": [
      "                   all        187       1799      0.692      0.666      0.691      0.363\n"
     ]
    },
    {
     "name": "stderr",
     "output_type": "stream",
     "text": [
      "\n"
     ]
    },
    {
     "name": "stdout",
     "output_type": "stream",
     "text": [
      "\n",
      "      Epoch    GPU_mem   box_loss   cls_loss   dfl_loss  Instances       Size\n"
     ]
    },
    {
     "name": "stderr",
     "output_type": "stream",
     "text": [
      "      4/100      3.34G      1.292       1.13      1.138         11       1024: 100%|██████████| 409/409 [01:15<00:00,  5.40it/s]\n",
      "                 Class     Images  Instances      Box(P          R      mAP50  mAP50-95): 100%|██████████| 12/12 [00:02<00:00,  5.60it/s]"
     ]
    },
    {
     "name": "stdout",
     "output_type": "stream",
     "text": [
      "                   all        187       1799      0.752      0.666      0.728      0.367\n"
     ]
    },
    {
     "name": "stderr",
     "output_type": "stream",
     "text": [
      "\n"
     ]
    },
    {
     "name": "stdout",
     "output_type": "stream",
     "text": [
      "\n",
      "      Epoch    GPU_mem   box_loss   cls_loss   dfl_loss  Instances       Size\n"
     ]
    },
    {
     "name": "stderr",
     "output_type": "stream",
     "text": [
      "      5/100      3.22G       1.25      1.042      1.119         22       1024: 100%|██████████| 409/409 [01:16<00:00,  5.35it/s]\n",
      "                 Class     Images  Instances      Box(P          R      mAP50  mAP50-95): 100%|██████████| 12/12 [00:02<00:00,  5.51it/s]"
     ]
    },
    {
     "name": "stdout",
     "output_type": "stream",
     "text": [
      "                   all        187       1799      0.727      0.654      0.703      0.394\n"
     ]
    },
    {
     "name": "stderr",
     "output_type": "stream",
     "text": [
      "\n"
     ]
    },
    {
     "name": "stdout",
     "output_type": "stream",
     "text": [
      "\n",
      "      Epoch    GPU_mem   box_loss   cls_loss   dfl_loss  Instances       Size\n"
     ]
    },
    {
     "name": "stderr",
     "output_type": "stream",
     "text": [
      "      6/100      3.37G       1.22     0.9671      1.102         11       1024: 100%|██████████| 409/409 [01:15<00:00,  5.40it/s]\n",
      "                 Class     Images  Instances      Box(P          R      mAP50  mAP50-95): 100%|██████████| 12/12 [00:02<00:00,  5.76it/s]"
     ]
    },
    {
     "name": "stdout",
     "output_type": "stream",
     "text": [
      "                   all        187       1799      0.779      0.769      0.812      0.454\n"
     ]
    },
    {
     "name": "stderr",
     "output_type": "stream",
     "text": [
      "\n"
     ]
    },
    {
     "name": "stdout",
     "output_type": "stream",
     "text": [
      "\n",
      "      Epoch    GPU_mem   box_loss   cls_loss   dfl_loss  Instances       Size\n"
     ]
    },
    {
     "name": "stderr",
     "output_type": "stream",
     "text": [
      "      7/100      3.15G      1.192     0.9487      1.092          1       1024: 100%|██████████| 409/409 [01:15<00:00,  5.40it/s]\n",
      "                 Class     Images  Instances      Box(P          R      mAP50  mAP50-95): 100%|██████████| 12/12 [00:02<00:00,  5.58it/s]"
     ]
    },
    {
     "name": "stdout",
     "output_type": "stream",
     "text": [
      "                   all        187       1799       0.87      0.722      0.812      0.503\n"
     ]
    },
    {
     "name": "stderr",
     "output_type": "stream",
     "text": [
      "\n"
     ]
    },
    {
     "name": "stdout",
     "output_type": "stream",
     "text": [
      "\n",
      "      Epoch    GPU_mem   box_loss   cls_loss   dfl_loss  Instances       Size\n"
     ]
    },
    {
     "name": "stderr",
     "output_type": "stream",
     "text": [
      "      8/100       3.3G      1.178      0.903      1.087         42       1024: 100%|██████████| 409/409 [01:15<00:00,  5.41it/s]\n",
      "                 Class     Images  Instances      Box(P          R      mAP50  mAP50-95): 100%|██████████| 12/12 [00:02<00:00,  5.65it/s]"
     ]
    },
    {
     "name": "stdout",
     "output_type": "stream",
     "text": [
      "                   all        187       1799      0.785      0.781      0.804      0.499\n"
     ]
    },
    {
     "name": "stderr",
     "output_type": "stream",
     "text": [
      "\n"
     ]
    },
    {
     "name": "stdout",
     "output_type": "stream",
     "text": [
      "\n",
      "      Epoch    GPU_mem   box_loss   cls_loss   dfl_loss  Instances       Size\n"
     ]
    },
    {
     "name": "stderr",
     "output_type": "stream",
     "text": [
      "      9/100      3.27G      1.157     0.8577      1.076         24       1024: 100%|██████████| 409/409 [01:14<00:00,  5.46it/s]\n",
      "                 Class     Images  Instances      Box(P          R      mAP50  mAP50-95): 100%|██████████| 12/12 [00:02<00:00,  5.67it/s]"
     ]
    },
    {
     "name": "stdout",
     "output_type": "stream",
     "text": [
      "                   all        187       1799      0.876      0.797      0.863      0.563\n"
     ]
    },
    {
     "name": "stderr",
     "output_type": "stream",
     "text": [
      "\n"
     ]
    },
    {
     "name": "stdout",
     "output_type": "stream",
     "text": [
      "\n",
      "      Epoch    GPU_mem   box_loss   cls_loss   dfl_loss  Instances       Size\n"
     ]
    },
    {
     "name": "stderr",
     "output_type": "stream",
     "text": [
      "     10/100      3.17G      1.131      0.822      1.063         14       1024: 100%|██████████| 409/409 [01:15<00:00,  5.40it/s]\n",
      "                 Class     Images  Instances      Box(P          R      mAP50  mAP50-95): 100%|██████████| 12/12 [00:02<00:00,  5.47it/s]"
     ]
    },
    {
     "name": "stdout",
     "output_type": "stream",
     "text": [
      "                   all        187       1799      0.797      0.778       0.84      0.564\n"
     ]
    },
    {
     "name": "stderr",
     "output_type": "stream",
     "text": [
      "\n"
     ]
    },
    {
     "name": "stdout",
     "output_type": "stream",
     "text": [
      "\n",
      "      Epoch    GPU_mem   box_loss   cls_loss   dfl_loss  Instances       Size\n"
     ]
    },
    {
     "name": "stderr",
     "output_type": "stream",
     "text": [
      "     11/100      3.31G      1.117     0.8127      1.059          3       1024: 100%|██████████| 409/409 [01:15<00:00,  5.40it/s]\n",
      "                 Class     Images  Instances      Box(P          R      mAP50  mAP50-95): 100%|██████████| 12/12 [00:02<00:00,  5.49it/s]"
     ]
    },
    {
     "name": "stdout",
     "output_type": "stream",
     "text": [
      "                   all        187       1799      0.873      0.811      0.864      0.549\n"
     ]
    },
    {
     "name": "stderr",
     "output_type": "stream",
     "text": [
      "\n"
     ]
    },
    {
     "name": "stdout",
     "output_type": "stream",
     "text": [
      "\n",
      "      Epoch    GPU_mem   box_loss   cls_loss   dfl_loss  Instances       Size\n"
     ]
    },
    {
     "name": "stderr",
     "output_type": "stream",
     "text": [
      "     12/100      3.21G      1.101     0.7904      1.054         18       1024: 100%|██████████| 409/409 [01:15<00:00,  5.44it/s]\n",
      "                 Class     Images  Instances      Box(P          R      mAP50  mAP50-95): 100%|██████████| 12/12 [00:02<00:00,  5.48it/s]"
     ]
    },
    {
     "name": "stdout",
     "output_type": "stream",
     "text": [
      "                   all        187       1799      0.838       0.85      0.844      0.547\n"
     ]
    },
    {
     "name": "stderr",
     "output_type": "stream",
     "text": [
      "\n"
     ]
    },
    {
     "name": "stdout",
     "output_type": "stream",
     "text": [
      "\n",
      "      Epoch    GPU_mem   box_loss   cls_loss   dfl_loss  Instances       Size\n"
     ]
    },
    {
     "name": "stderr",
     "output_type": "stream",
     "text": [
      "     13/100      3.16G      1.089     0.7779      1.047         15       1024: 100%|██████████| 409/409 [01:15<00:00,  5.42it/s]\n",
      "                 Class     Images  Instances      Box(P          R      mAP50  mAP50-95): 100%|██████████| 12/12 [00:02<00:00,  5.61it/s]"
     ]
    },
    {
     "name": "stdout",
     "output_type": "stream",
     "text": [
      "                   all        187       1799      0.915      0.808      0.881      0.572\n"
     ]
    },
    {
     "name": "stderr",
     "output_type": "stream",
     "text": [
      "\n"
     ]
    },
    {
     "name": "stdout",
     "output_type": "stream",
     "text": [
      "\n",
      "      Epoch    GPU_mem   box_loss   cls_loss   dfl_loss  Instances       Size\n"
     ]
    },
    {
     "name": "stderr",
     "output_type": "stream",
     "text": [
      "     14/100      3.18G      1.073     0.7542      1.044         11       1024: 100%|██████████| 409/409 [01:15<00:00,  5.43it/s]\n",
      "                 Class     Images  Instances      Box(P          R      mAP50  mAP50-95): 100%|██████████| 12/12 [00:02<00:00,  5.49it/s]"
     ]
    },
    {
     "name": "stdout",
     "output_type": "stream",
     "text": [
      "                   all        187       1799      0.876      0.845      0.889      0.583\n"
     ]
    },
    {
     "name": "stderr",
     "output_type": "stream",
     "text": [
      "\n"
     ]
    },
    {
     "name": "stdout",
     "output_type": "stream",
     "text": [
      "\n",
      "      Epoch    GPU_mem   box_loss   cls_loss   dfl_loss  Instances       Size\n"
     ]
    },
    {
     "name": "stderr",
     "output_type": "stream",
     "text": [
      "     15/100      3.19G      1.061     0.7307      1.032          3       1024: 100%|██████████| 409/409 [01:15<00:00,  5.41it/s]\n",
      "                 Class     Images  Instances      Box(P          R      mAP50  mAP50-95): 100%|██████████| 12/12 [00:02<00:00,  5.35it/s]"
     ]
    },
    {
     "name": "stdout",
     "output_type": "stream",
     "text": [
      "                   all        187       1799      0.893      0.846      0.894      0.594\n"
     ]
    },
    {
     "name": "stderr",
     "output_type": "stream",
     "text": [
      "\n"
     ]
    },
    {
     "name": "stdout",
     "output_type": "stream",
     "text": [
      "\n",
      "      Epoch    GPU_mem   box_loss   cls_loss   dfl_loss  Instances       Size\n"
     ]
    },
    {
     "name": "stderr",
     "output_type": "stream",
     "text": [
      "     16/100      3.32G      1.057     0.7507      1.031          0       1024: 100%|██████████| 409/409 [01:14<00:00,  5.46it/s]\n",
      "                 Class     Images  Instances      Box(P          R      mAP50  mAP50-95): 100%|██████████| 12/12 [00:02<00:00,  5.66it/s]"
     ]
    },
    {
     "name": "stdout",
     "output_type": "stream",
     "text": [
      "                   all        187       1799      0.939      0.832        0.9      0.592\n"
     ]
    },
    {
     "name": "stderr",
     "output_type": "stream",
     "text": [
      "\n"
     ]
    },
    {
     "name": "stdout",
     "output_type": "stream",
     "text": [
      "\n",
      "      Epoch    GPU_mem   box_loss   cls_loss   dfl_loss  Instances       Size\n"
     ]
    },
    {
     "name": "stderr",
     "output_type": "stream",
     "text": [
      "     17/100      3.27G      1.044     0.7171      1.026         28       1024: 100%|██████████| 409/409 [01:15<00:00,  5.45it/s]\n",
      "                 Class     Images  Instances      Box(P          R      mAP50  mAP50-95): 100%|██████████| 12/12 [00:02<00:00,  5.46it/s]"
     ]
    },
    {
     "name": "stdout",
     "output_type": "stream",
     "text": [
      "                   all        187       1799      0.874      0.888      0.903      0.604\n"
     ]
    },
    {
     "name": "stderr",
     "output_type": "stream",
     "text": [
      "\n"
     ]
    },
    {
     "name": "stdout",
     "output_type": "stream",
     "text": [
      "\n",
      "      Epoch    GPU_mem   box_loss   cls_loss   dfl_loss  Instances       Size\n"
     ]
    },
    {
     "name": "stderr",
     "output_type": "stream",
     "text": [
      "     18/100      3.34G      1.037     0.7053      1.027         11       1024: 100%|██████████| 409/409 [01:15<00:00,  5.41it/s]\n",
      "                 Class     Images  Instances      Box(P          R      mAP50  mAP50-95): 100%|██████████| 12/12 [00:02<00:00,  5.69it/s]"
     ]
    },
    {
     "name": "stdout",
     "output_type": "stream",
     "text": [
      "                   all        187       1799      0.833      0.847      0.862      0.571\n"
     ]
    },
    {
     "name": "stderr",
     "output_type": "stream",
     "text": [
      "\n"
     ]
    },
    {
     "name": "stdout",
     "output_type": "stream",
     "text": [
      "\n",
      "      Epoch    GPU_mem   box_loss   cls_loss   dfl_loss  Instances       Size\n"
     ]
    },
    {
     "name": "stderr",
     "output_type": "stream",
     "text": [
      "     19/100      3.21G      1.012     0.6841      1.016          3       1024: 100%|██████████| 409/409 [01:15<00:00,  5.45it/s]\n",
      "                 Class     Images  Instances      Box(P          R      mAP50  mAP50-95): 100%|██████████| 12/12 [00:02<00:00,  5.67it/s]"
     ]
    },
    {
     "name": "stdout",
     "output_type": "stream",
     "text": [
      "                   all        187       1799      0.891      0.867      0.906      0.596\n"
     ]
    },
    {
     "name": "stderr",
     "output_type": "stream",
     "text": [
      "\n"
     ]
    },
    {
     "name": "stdout",
     "output_type": "stream",
     "text": [
      "\n",
      "      Epoch    GPU_mem   box_loss   cls_loss   dfl_loss  Instances       Size\n"
     ]
    },
    {
     "name": "stderr",
     "output_type": "stream",
     "text": [
      "     20/100      3.13G      1.007     0.6825      1.012         27       1024: 100%|██████████| 409/409 [01:15<00:00,  5.44it/s]\n",
      "                 Class     Images  Instances      Box(P          R      mAP50  mAP50-95): 100%|██████████| 12/12 [00:02<00:00,  5.55it/s]"
     ]
    },
    {
     "name": "stdout",
     "output_type": "stream",
     "text": [
      "                   all        187       1799      0.904      0.853      0.894      0.608\n"
     ]
    },
    {
     "name": "stderr",
     "output_type": "stream",
     "text": [
      "\n"
     ]
    },
    {
     "name": "stdout",
     "output_type": "stream",
     "text": [
      "\n",
      "      Epoch    GPU_mem   box_loss   cls_loss   dfl_loss  Instances       Size\n"
     ]
    },
    {
     "name": "stderr",
     "output_type": "stream",
     "text": [
      "     21/100      3.33G       1.01     0.6728      1.012         10       1024: 100%|██████████| 409/409 [01:15<00:00,  5.42it/s]\n",
      "                 Class     Images  Instances      Box(P          R      mAP50  mAP50-95): 100%|██████████| 12/12 [00:02<00:00,  5.66it/s]"
     ]
    },
    {
     "name": "stdout",
     "output_type": "stream",
     "text": [
      "                   all        187       1799      0.885      0.871      0.913      0.616\n"
     ]
    },
    {
     "name": "stderr",
     "output_type": "stream",
     "text": [
      "\n"
     ]
    },
    {
     "name": "stdout",
     "output_type": "stream",
     "text": [
      "\n",
      "      Epoch    GPU_mem   box_loss   cls_loss   dfl_loss  Instances       Size\n"
     ]
    },
    {
     "name": "stderr",
     "output_type": "stream",
     "text": [
      "     22/100      3.23G     0.9889     0.6602      1.003         10       1024: 100%|██████████| 409/409 [01:14<00:00,  5.46it/s]\n",
      "                 Class     Images  Instances      Box(P          R      mAP50  mAP50-95): 100%|██████████| 12/12 [00:02<00:00,  5.56it/s]"
     ]
    },
    {
     "name": "stdout",
     "output_type": "stream",
     "text": [
      "                   all        187       1799      0.881      0.895      0.918       0.62\n"
     ]
    },
    {
     "name": "stderr",
     "output_type": "stream",
     "text": [
      "\n"
     ]
    },
    {
     "name": "stdout",
     "output_type": "stream",
     "text": [
      "\n",
      "      Epoch    GPU_mem   box_loss   cls_loss   dfl_loss  Instances       Size\n"
     ]
    },
    {
     "name": "stderr",
     "output_type": "stream",
     "text": [
      "     23/100      3.15G     0.9872     0.6441      1.004          9       1024: 100%|██████████| 409/409 [01:15<00:00,  5.42it/s]\n",
      "                 Class     Images  Instances      Box(P          R      mAP50  mAP50-95): 100%|██████████| 12/12 [00:02<00:00,  5.76it/s]"
     ]
    },
    {
     "name": "stdout",
     "output_type": "stream",
     "text": [
      "                   all        187       1799      0.901      0.878      0.906      0.616\n"
     ]
    },
    {
     "name": "stderr",
     "output_type": "stream",
     "text": [
      "\n"
     ]
    },
    {
     "name": "stdout",
     "output_type": "stream",
     "text": [
      "\n",
      "      Epoch    GPU_mem   box_loss   cls_loss   dfl_loss  Instances       Size\n"
     ]
    },
    {
     "name": "stderr",
     "output_type": "stream",
     "text": [
      "     24/100      3.16G     0.9819     0.6628      1.002          4       1024: 100%|██████████| 409/409 [01:15<00:00,  5.42it/s]\n",
      "                 Class     Images  Instances      Box(P          R      mAP50  mAP50-95): 100%|██████████| 12/12 [00:02<00:00,  5.43it/s]"
     ]
    },
    {
     "name": "stdout",
     "output_type": "stream",
     "text": [
      "                   all        187       1799      0.914      0.858      0.909      0.622\n"
     ]
    },
    {
     "name": "stderr",
     "output_type": "stream",
     "text": [
      "\n"
     ]
    },
    {
     "name": "stdout",
     "output_type": "stream",
     "text": [
      "\n",
      "      Epoch    GPU_mem   box_loss   cls_loss   dfl_loss  Instances       Size\n"
     ]
    },
    {
     "name": "stderr",
     "output_type": "stream",
     "text": [
      "     25/100       3.4G     0.9702     0.6404     0.9996          9       1024: 100%|██████████| 409/409 [01:15<00:00,  5.39it/s]\n",
      "                 Class     Images  Instances      Box(P          R      mAP50  mAP50-95): 100%|██████████| 12/12 [00:02<00:00,  5.52it/s]"
     ]
    },
    {
     "name": "stdout",
     "output_type": "stream",
     "text": [
      "                   all        187       1799      0.907      0.877      0.913      0.637\n"
     ]
    },
    {
     "name": "stderr",
     "output_type": "stream",
     "text": [
      "\n"
     ]
    },
    {
     "name": "stdout",
     "output_type": "stream",
     "text": [
      "\n",
      "      Epoch    GPU_mem   box_loss   cls_loss   dfl_loss  Instances       Size\n"
     ]
    },
    {
     "name": "stderr",
     "output_type": "stream",
     "text": [
      "     26/100      3.32G     0.9571     0.6338     0.9935         13       1024: 100%|██████████| 409/409 [01:15<00:00,  5.42it/s]\n",
      "                 Class     Images  Instances      Box(P          R      mAP50  mAP50-95): 100%|██████████| 12/12 [00:02<00:00,  5.63it/s]"
     ]
    },
    {
     "name": "stdout",
     "output_type": "stream",
     "text": [
      "                   all        187       1799      0.898      0.887      0.922      0.634\n"
     ]
    },
    {
     "name": "stderr",
     "output_type": "stream",
     "text": [
      "\n"
     ]
    },
    {
     "name": "stdout",
     "output_type": "stream",
     "text": [
      "\n",
      "      Epoch    GPU_mem   box_loss   cls_loss   dfl_loss  Instances       Size\n"
     ]
    },
    {
     "name": "stderr",
     "output_type": "stream",
     "text": [
      "     27/100      3.32G     0.9594     0.6322     0.9911          7       1024: 100%|██████████| 409/409 [01:15<00:00,  5.42it/s]\n",
      "                 Class     Images  Instances      Box(P          R      mAP50  mAP50-95): 100%|██████████| 12/12 [00:02<00:00,  5.61it/s]"
     ]
    },
    {
     "name": "stdout",
     "output_type": "stream",
     "text": [
      "                   all        187       1799      0.931      0.863      0.919      0.639\n"
     ]
    },
    {
     "name": "stderr",
     "output_type": "stream",
     "text": [
      "\n"
     ]
    },
    {
     "name": "stdout",
     "output_type": "stream",
     "text": [
      "\n",
      "      Epoch    GPU_mem   box_loss   cls_loss   dfl_loss  Instances       Size\n"
     ]
    },
    {
     "name": "stderr",
     "output_type": "stream",
     "text": [
      "     28/100      3.27G     0.9512     0.6266     0.9899          3       1024: 100%|██████████| 409/409 [01:15<00:00,  5.42it/s]\n",
      "                 Class     Images  Instances      Box(P          R      mAP50  mAP50-95): 100%|██████████| 12/12 [00:02<00:00,  5.79it/s]"
     ]
    },
    {
     "name": "stdout",
     "output_type": "stream",
     "text": [
      "                   all        187       1799      0.901      0.885      0.904      0.636\n"
     ]
    },
    {
     "name": "stderr",
     "output_type": "stream",
     "text": [
      "\n"
     ]
    },
    {
     "name": "stdout",
     "output_type": "stream",
     "text": [
      "\n",
      "      Epoch    GPU_mem   box_loss   cls_loss   dfl_loss  Instances       Size\n"
     ]
    },
    {
     "name": "stderr",
     "output_type": "stream",
     "text": [
      "     29/100      3.58G     0.9446      0.619     0.9881         16       1024: 100%|██████████| 409/409 [01:15<00:00,  5.41it/s]\n",
      "                 Class     Images  Instances      Box(P          R      mAP50  mAP50-95): 100%|██████████| 12/12 [00:02<00:00,  5.66it/s]"
     ]
    },
    {
     "name": "stdout",
     "output_type": "stream",
     "text": [
      "                   all        187       1799      0.896      0.873      0.913      0.628\n"
     ]
    },
    {
     "name": "stderr",
     "output_type": "stream",
     "text": [
      "\n"
     ]
    },
    {
     "name": "stdout",
     "output_type": "stream",
     "text": [
      "\n",
      "      Epoch    GPU_mem   box_loss   cls_loss   dfl_loss  Instances       Size\n"
     ]
    },
    {
     "name": "stderr",
     "output_type": "stream",
     "text": [
      "     30/100      3.21G     0.9397     0.6144     0.9867          7       1024: 100%|██████████| 409/409 [01:16<00:00,  5.36it/s]\n",
      "                 Class     Images  Instances      Box(P          R      mAP50  mAP50-95): 100%|██████████| 12/12 [00:02<00:00,  5.57it/s]"
     ]
    },
    {
     "name": "stdout",
     "output_type": "stream",
     "text": [
      "                   all        187       1799      0.926      0.899      0.925      0.621\n"
     ]
    },
    {
     "name": "stderr",
     "output_type": "stream",
     "text": [
      "\n"
     ]
    },
    {
     "name": "stdout",
     "output_type": "stream",
     "text": [
      "\n",
      "      Epoch    GPU_mem   box_loss   cls_loss   dfl_loss  Instances       Size\n"
     ]
    },
    {
     "name": "stderr",
     "output_type": "stream",
     "text": [
      "     31/100      3.17G     0.9307     0.6025     0.9804         38       1024: 100%|██████████| 409/409 [01:15<00:00,  5.39it/s]\n",
      "                 Class     Images  Instances      Box(P          R      mAP50  mAP50-95): 100%|██████████| 12/12 [00:02<00:00,  5.53it/s]"
     ]
    },
    {
     "name": "stdout",
     "output_type": "stream",
     "text": [
      "                   all        187       1799      0.927      0.878      0.918      0.638\n"
     ]
    },
    {
     "name": "stderr",
     "output_type": "stream",
     "text": [
      "\n"
     ]
    },
    {
     "name": "stdout",
     "output_type": "stream",
     "text": [
      "\n",
      "      Epoch    GPU_mem   box_loss   cls_loss   dfl_loss  Instances       Size\n"
     ]
    },
    {
     "name": "stderr",
     "output_type": "stream",
     "text": [
      "     32/100      3.25G     0.9219     0.6019     0.9806         18       1024: 100%|██████████| 409/409 [01:15<00:00,  5.43it/s]\n",
      "                 Class     Images  Instances      Box(P          R      mAP50  mAP50-95): 100%|██████████| 12/12 [00:02<00:00,  5.51it/s]"
     ]
    },
    {
     "name": "stdout",
     "output_type": "stream",
     "text": [
      "                   all        187       1799      0.911      0.875      0.913      0.638\n"
     ]
    },
    {
     "name": "stderr",
     "output_type": "stream",
     "text": [
      "\n"
     ]
    },
    {
     "name": "stdout",
     "output_type": "stream",
     "text": [
      "\n",
      "      Epoch    GPU_mem   box_loss   cls_loss   dfl_loss  Instances       Size\n"
     ]
    },
    {
     "name": "stderr",
     "output_type": "stream",
     "text": [
      "     33/100      3.41G      0.928     0.6045      0.981          8       1024: 100%|██████████| 409/409 [01:15<00:00,  5.44it/s]\n",
      "                 Class     Images  Instances      Box(P          R      mAP50  mAP50-95): 100%|██████████| 12/12 [00:02<00:00,  5.50it/s]"
     ]
    },
    {
     "name": "stdout",
     "output_type": "stream",
     "text": [
      "                   all        187       1799      0.912      0.889      0.919      0.642\n"
     ]
    },
    {
     "name": "stderr",
     "output_type": "stream",
     "text": [
      "\n"
     ]
    },
    {
     "name": "stdout",
     "output_type": "stream",
     "text": [
      "\n",
      "      Epoch    GPU_mem   box_loss   cls_loss   dfl_loss  Instances       Size\n"
     ]
    },
    {
     "name": "stderr",
     "output_type": "stream",
     "text": [
      "     34/100      3.42G     0.9142     0.5895     0.9755         24       1024: 100%|██████████| 409/409 [01:15<00:00,  5.42it/s]\n",
      "                 Class     Images  Instances      Box(P          R      mAP50  mAP50-95): 100%|██████████| 12/12 [00:02<00:00,  5.67it/s]"
     ]
    },
    {
     "name": "stdout",
     "output_type": "stream",
     "text": [
      "                   all        187       1799      0.933      0.894      0.924      0.653\n"
     ]
    },
    {
     "name": "stderr",
     "output_type": "stream",
     "text": [
      "\n"
     ]
    },
    {
     "name": "stdout",
     "output_type": "stream",
     "text": [
      "\n",
      "      Epoch    GPU_mem   box_loss   cls_loss   dfl_loss  Instances       Size\n"
     ]
    },
    {
     "name": "stderr",
     "output_type": "stream",
     "text": [
      "     35/100      3.46G     0.9029     0.5862     0.9688          1       1024: 100%|██████████| 409/409 [01:14<00:00,  5.46it/s]\n",
      "                 Class     Images  Instances      Box(P          R      mAP50  mAP50-95): 100%|██████████| 12/12 [00:02<00:00,  5.66it/s]"
     ]
    },
    {
     "name": "stdout",
     "output_type": "stream",
     "text": [
      "                   all        187       1799      0.923      0.897      0.927      0.653\n"
     ]
    },
    {
     "name": "stderr",
     "output_type": "stream",
     "text": [
      "\n"
     ]
    },
    {
     "name": "stdout",
     "output_type": "stream",
     "text": [
      "\n",
      "      Epoch    GPU_mem   box_loss   cls_loss   dfl_loss  Instances       Size\n"
     ]
    },
    {
     "name": "stderr",
     "output_type": "stream",
     "text": [
      "     36/100       3.4G     0.9015     0.5809     0.9684         13       1024: 100%|██████████| 409/409 [01:14<00:00,  5.46it/s]\n",
      "                 Class     Images  Instances      Box(P          R      mAP50  mAP50-95): 100%|██████████| 12/12 [00:02<00:00,  5.55it/s]"
     ]
    },
    {
     "name": "stdout",
     "output_type": "stream",
     "text": [
      "                   all        187       1799      0.905      0.888      0.916       0.64\n"
     ]
    },
    {
     "name": "stderr",
     "output_type": "stream",
     "text": [
      "\n"
     ]
    },
    {
     "name": "stdout",
     "output_type": "stream",
     "text": [
      "\n",
      "      Epoch    GPU_mem   box_loss   cls_loss   dfl_loss  Instances       Size\n"
     ]
    },
    {
     "name": "stderr",
     "output_type": "stream",
     "text": [
      "     37/100      3.29G     0.8977     0.5711     0.9709         10       1024: 100%|██████████| 409/409 [01:15<00:00,  5.45it/s]\n",
      "                 Class     Images  Instances      Box(P          R      mAP50  mAP50-95): 100%|██████████| 12/12 [00:02<00:00,  5.37it/s]"
     ]
    },
    {
     "name": "stdout",
     "output_type": "stream",
     "text": [
      "                   all        187       1799      0.908      0.905      0.924       0.65\n"
     ]
    },
    {
     "name": "stderr",
     "output_type": "stream",
     "text": [
      "\n"
     ]
    },
    {
     "name": "stdout",
     "output_type": "stream",
     "text": [
      "\n",
      "      Epoch    GPU_mem   box_loss   cls_loss   dfl_loss  Instances       Size\n"
     ]
    },
    {
     "name": "stderr",
     "output_type": "stream",
     "text": [
      "     38/100      3.27G      0.892     0.5809     0.9667          4       1024: 100%|██████████| 409/409 [01:15<00:00,  5.43it/s]\n",
      "                 Class     Images  Instances      Box(P          R      mAP50  mAP50-95): 100%|██████████| 12/12 [00:02<00:00,  5.59it/s]"
     ]
    },
    {
     "name": "stdout",
     "output_type": "stream",
     "text": [
      "                   all        187       1799      0.905      0.894      0.923      0.651\n"
     ]
    },
    {
     "name": "stderr",
     "output_type": "stream",
     "text": [
      "\n"
     ]
    },
    {
     "name": "stdout",
     "output_type": "stream",
     "text": [
      "\n",
      "      Epoch    GPU_mem   box_loss   cls_loss   dfl_loss  Instances       Size\n"
     ]
    },
    {
     "name": "stderr",
     "output_type": "stream",
     "text": [
      "     39/100      3.17G     0.8876     0.5756     0.9686         33       1024: 100%|██████████| 409/409 [01:15<00:00,  5.42it/s]\n",
      "                 Class     Images  Instances      Box(P          R      mAP50  mAP50-95): 100%|██████████| 12/12 [00:02<00:00,  5.32it/s]"
     ]
    },
    {
     "name": "stdout",
     "output_type": "stream",
     "text": [
      "                   all        187       1799      0.921      0.892       0.92      0.657\n"
     ]
    },
    {
     "name": "stderr",
     "output_type": "stream",
     "text": [
      "\n"
     ]
    },
    {
     "name": "stdout",
     "output_type": "stream",
     "text": [
      "\n",
      "      Epoch    GPU_mem   box_loss   cls_loss   dfl_loss  Instances       Size\n"
     ]
    },
    {
     "name": "stderr",
     "output_type": "stream",
     "text": [
      "     40/100      3.42G     0.8791     0.5572     0.9644         11       1024: 100%|██████████| 409/409 [01:15<00:00,  5.40it/s]\n",
      "                 Class     Images  Instances      Box(P          R      mAP50  mAP50-95): 100%|██████████| 12/12 [00:02<00:00,  5.73it/s]"
     ]
    },
    {
     "name": "stdout",
     "output_type": "stream",
     "text": [
      "                   all        187       1799       0.94      0.885      0.926      0.656\n"
     ]
    },
    {
     "name": "stderr",
     "output_type": "stream",
     "text": [
      "\n"
     ]
    },
    {
     "name": "stdout",
     "output_type": "stream",
     "text": [
      "\n",
      "      Epoch    GPU_mem   box_loss   cls_loss   dfl_loss  Instances       Size\n"
     ]
    },
    {
     "name": "stderr",
     "output_type": "stream",
     "text": [
      "     41/100      3.33G     0.8757     0.5579      0.963          6       1024: 100%|██████████| 409/409 [01:15<00:00,  5.43it/s]\n",
      "                 Class     Images  Instances      Box(P          R      mAP50  mAP50-95): 100%|██████████| 12/12 [00:02<00:00,  5.54it/s]"
     ]
    },
    {
     "name": "stdout",
     "output_type": "stream",
     "text": [
      "                   all        187       1799      0.893      0.895      0.917      0.651\n"
     ]
    },
    {
     "name": "stderr",
     "output_type": "stream",
     "text": [
      "\n"
     ]
    },
    {
     "name": "stdout",
     "output_type": "stream",
     "text": [
      "\n",
      "      Epoch    GPU_mem   box_loss   cls_loss   dfl_loss  Instances       Size\n"
     ]
    },
    {
     "name": "stderr",
     "output_type": "stream",
     "text": [
      "     42/100      3.29G     0.8751     0.5563     0.9631          3       1024: 100%|██████████| 409/409 [01:15<00:00,  5.43it/s]\n",
      "                 Class     Images  Instances      Box(P          R      mAP50  mAP50-95): 100%|██████████| 12/12 [00:02<00:00,  5.62it/s]"
     ]
    },
    {
     "name": "stdout",
     "output_type": "stream",
     "text": [
      "                   all        187       1799      0.946      0.884      0.929      0.656\n"
     ]
    },
    {
     "name": "stderr",
     "output_type": "stream",
     "text": [
      "\n"
     ]
    },
    {
     "name": "stdout",
     "output_type": "stream",
     "text": [
      "\n",
      "      Epoch    GPU_mem   box_loss   cls_loss   dfl_loss  Instances       Size\n"
     ]
    },
    {
     "name": "stderr",
     "output_type": "stream",
     "text": [
      "     43/100      3.25G     0.8667     0.5523     0.9568         14       1024: 100%|██████████| 409/409 [01:15<00:00,  5.45it/s]\n",
      "                 Class     Images  Instances      Box(P          R      mAP50  mAP50-95): 100%|██████████| 12/12 [00:02<00:00,  5.44it/s]"
     ]
    },
    {
     "name": "stdout",
     "output_type": "stream",
     "text": [
      "                   all        187       1799      0.956      0.885      0.932      0.656\n"
     ]
    },
    {
     "name": "stderr",
     "output_type": "stream",
     "text": [
      "\n"
     ]
    },
    {
     "name": "stdout",
     "output_type": "stream",
     "text": [
      "\n",
      "      Epoch    GPU_mem   box_loss   cls_loss   dfl_loss  Instances       Size\n"
     ]
    },
    {
     "name": "stderr",
     "output_type": "stream",
     "text": [
      "     44/100      3.41G     0.8538     0.5485     0.9558         19       1024: 100%|██████████| 409/409 [01:15<00:00,  5.40it/s]\n",
      "                 Class     Images  Instances      Box(P          R      mAP50  mAP50-95): 100%|██████████| 12/12 [00:02<00:00,  5.55it/s]"
     ]
    },
    {
     "name": "stdout",
     "output_type": "stream",
     "text": [
      "                   all        187       1799      0.946      0.903      0.933       0.66\n"
     ]
    },
    {
     "name": "stderr",
     "output_type": "stream",
     "text": [
      "\n"
     ]
    },
    {
     "name": "stdout",
     "output_type": "stream",
     "text": [
      "\n",
      "      Epoch    GPU_mem   box_loss   cls_loss   dfl_loss  Instances       Size\n"
     ]
    },
    {
     "name": "stderr",
     "output_type": "stream",
     "text": [
      "     45/100      3.33G      0.861     0.5464     0.9567         12       1024: 100%|██████████| 409/409 [01:15<00:00,  5.42it/s]\n",
      "                 Class     Images  Instances      Box(P          R      mAP50  mAP50-95): 100%|██████████| 12/12 [00:02<00:00,  5.59it/s]"
     ]
    },
    {
     "name": "stdout",
     "output_type": "stream",
     "text": [
      "                   all        187       1799      0.902      0.912      0.925      0.661\n"
     ]
    },
    {
     "name": "stderr",
     "output_type": "stream",
     "text": [
      "\n"
     ]
    },
    {
     "name": "stdout",
     "output_type": "stream",
     "text": [
      "\n",
      "      Epoch    GPU_mem   box_loss   cls_loss   dfl_loss  Instances       Size\n"
     ]
    },
    {
     "name": "stderr",
     "output_type": "stream",
     "text": [
      "     46/100      3.25G     0.8645     0.5507     0.9578          8       1024: 100%|██████████| 409/409 [01:15<00:00,  5.39it/s]\n",
      "                 Class     Images  Instances      Box(P          R      mAP50  mAP50-95): 100%|██████████| 12/12 [00:02<00:00,  5.39it/s]"
     ]
    },
    {
     "name": "stdout",
     "output_type": "stream",
     "text": [
      "                   all        187       1799      0.918      0.913      0.927      0.666\n"
     ]
    },
    {
     "name": "stderr",
     "output_type": "stream",
     "text": [
      "\n"
     ]
    },
    {
     "name": "stdout",
     "output_type": "stream",
     "text": [
      "\n",
      "      Epoch    GPU_mem   box_loss   cls_loss   dfl_loss  Instances       Size\n"
     ]
    },
    {
     "name": "stderr",
     "output_type": "stream",
     "text": [
      "     47/100      3.44G     0.8462     0.5387     0.9511          7       1024: 100%|██████████| 409/409 [01:15<00:00,  5.41it/s]\n",
      "                 Class     Images  Instances      Box(P          R      mAP50  mAP50-95): 100%|██████████| 12/12 [00:02<00:00,  5.71it/s]"
     ]
    },
    {
     "name": "stdout",
     "output_type": "stream",
     "text": [
      "                   all        187       1799      0.919      0.892      0.917      0.653\n"
     ]
    },
    {
     "name": "stderr",
     "output_type": "stream",
     "text": [
      "\n"
     ]
    },
    {
     "name": "stdout",
     "output_type": "stream",
     "text": [
      "\n",
      "      Epoch    GPU_mem   box_loss   cls_loss   dfl_loss  Instances       Size\n"
     ]
    },
    {
     "name": "stderr",
     "output_type": "stream",
     "text": [
      "     48/100      3.17G     0.8416     0.5293     0.9518         16       1024: 100%|██████████| 409/409 [01:15<00:00,  5.43it/s]\n",
      "                 Class     Images  Instances      Box(P          R      mAP50  mAP50-95): 100%|██████████| 12/12 [00:02<00:00,  5.32it/s]"
     ]
    },
    {
     "name": "stdout",
     "output_type": "stream",
     "text": [
      "                   all        187       1799      0.913      0.892      0.929      0.659\n"
     ]
    },
    {
     "name": "stderr",
     "output_type": "stream",
     "text": [
      "\n"
     ]
    },
    {
     "name": "stdout",
     "output_type": "stream",
     "text": [
      "\n",
      "      Epoch    GPU_mem   box_loss   cls_loss   dfl_loss  Instances       Size\n"
     ]
    },
    {
     "name": "stderr",
     "output_type": "stream",
     "text": [
      "     49/100      3.47G     0.8453     0.5379     0.9524         32       1024: 100%|██████████| 409/409 [01:15<00:00,  5.40it/s]\n",
      "                 Class     Images  Instances      Box(P          R      mAP50  mAP50-95): 100%|██████████| 12/12 [00:02<00:00,  5.71it/s]"
     ]
    },
    {
     "name": "stdout",
     "output_type": "stream",
     "text": [
      "                   all        187       1799       0.93      0.891      0.931      0.652\n"
     ]
    },
    {
     "name": "stderr",
     "output_type": "stream",
     "text": [
      "\n"
     ]
    },
    {
     "name": "stdout",
     "output_type": "stream",
     "text": [
      "\n",
      "      Epoch    GPU_mem   box_loss   cls_loss   dfl_loss  Instances       Size\n"
     ]
    },
    {
     "name": "stderr",
     "output_type": "stream",
     "text": [
      "     50/100      3.26G      0.836     0.5294     0.9471          7       1024: 100%|██████████| 409/409 [01:15<00:00,  5.44it/s]\n",
      "                 Class     Images  Instances      Box(P          R      mAP50  mAP50-95): 100%|██████████| 12/12 [00:02<00:00,  5.63it/s]"
     ]
    },
    {
     "name": "stdout",
     "output_type": "stream",
     "text": [
      "                   all        187       1799      0.928       0.89      0.931      0.662\n"
     ]
    },
    {
     "name": "stderr",
     "output_type": "stream",
     "text": [
      "\n"
     ]
    },
    {
     "name": "stdout",
     "output_type": "stream",
     "text": [
      "\n",
      "      Epoch    GPU_mem   box_loss   cls_loss   dfl_loss  Instances       Size\n"
     ]
    },
    {
     "name": "stderr",
     "output_type": "stream",
     "text": [
      "     51/100      3.33G     0.8351     0.5263     0.9491         12       1024: 100%|██████████| 409/409 [01:15<00:00,  5.40it/s]\n",
      "                 Class     Images  Instances      Box(P          R      mAP50  mAP50-95): 100%|██████████| 12/12 [00:02<00:00,  5.37it/s]"
     ]
    },
    {
     "name": "stdout",
     "output_type": "stream",
     "text": [
      "                   all        187       1799      0.941       0.89      0.928      0.669\n"
     ]
    },
    {
     "name": "stderr",
     "output_type": "stream",
     "text": [
      "\n"
     ]
    },
    {
     "name": "stdout",
     "output_type": "stream",
     "text": [
      "\n",
      "      Epoch    GPU_mem   box_loss   cls_loss   dfl_loss  Instances       Size\n"
     ]
    },
    {
     "name": "stderr",
     "output_type": "stream",
     "text": [
      "     52/100      3.16G     0.8323     0.5162     0.9458         17       1024: 100%|██████████| 409/409 [01:15<00:00,  5.43it/s]\n",
      "                 Class     Images  Instances      Box(P          R      mAP50  mAP50-95): 100%|██████████| 12/12 [00:02<00:00,  5.56it/s]"
     ]
    },
    {
     "name": "stdout",
     "output_type": "stream",
     "text": [
      "                   all        187       1799      0.926      0.907      0.935      0.669\n"
     ]
    },
    {
     "name": "stderr",
     "output_type": "stream",
     "text": [
      "\n"
     ]
    },
    {
     "name": "stdout",
     "output_type": "stream",
     "text": [
      "\n",
      "      Epoch    GPU_mem   box_loss   cls_loss   dfl_loss  Instances       Size\n"
     ]
    },
    {
     "name": "stderr",
     "output_type": "stream",
     "text": [
      "     53/100      3.22G     0.8236     0.5276     0.9447          5       1024: 100%|██████████| 409/409 [01:15<00:00,  5.45it/s]\n",
      "                 Class     Images  Instances      Box(P          R      mAP50  mAP50-95): 100%|██████████| 12/12 [00:02<00:00,  5.59it/s]"
     ]
    },
    {
     "name": "stdout",
     "output_type": "stream",
     "text": [
      "                   all        187       1799      0.939      0.894      0.929      0.661\n"
     ]
    },
    {
     "name": "stderr",
     "output_type": "stream",
     "text": [
      "\n"
     ]
    },
    {
     "name": "stdout",
     "output_type": "stream",
     "text": [
      "\n",
      "      Epoch    GPU_mem   box_loss   cls_loss   dfl_loss  Instances       Size\n"
     ]
    },
    {
     "name": "stderr",
     "output_type": "stream",
     "text": [
      "     54/100      3.31G     0.8221     0.5164     0.9421         23       1024: 100%|██████████| 409/409 [01:15<00:00,  5.42it/s]\n",
      "                 Class     Images  Instances      Box(P          R      mAP50  mAP50-95): 100%|██████████| 12/12 [00:02<00:00,  5.62it/s]"
     ]
    },
    {
     "name": "stdout",
     "output_type": "stream",
     "text": [
      "                   all        187       1799      0.926      0.904      0.928      0.662\n"
     ]
    },
    {
     "name": "stderr",
     "output_type": "stream",
     "text": [
      "\n"
     ]
    },
    {
     "name": "stdout",
     "output_type": "stream",
     "text": [
      "\n",
      "      Epoch    GPU_mem   box_loss   cls_loss   dfl_loss  Instances       Size\n"
     ]
    },
    {
     "name": "stderr",
     "output_type": "stream",
     "text": [
      "     55/100      3.27G     0.8222     0.5212     0.9419          1       1024: 100%|██████████| 409/409 [01:15<00:00,  5.44it/s]\n",
      "                 Class     Images  Instances      Box(P          R      mAP50  mAP50-95): 100%|██████████| 12/12 [00:02<00:00,  5.45it/s]"
     ]
    },
    {
     "name": "stdout",
     "output_type": "stream",
     "text": [
      "                   all        187       1799       0.92        0.9      0.928      0.655\n"
     ]
    },
    {
     "name": "stderr",
     "output_type": "stream",
     "text": [
      "\n"
     ]
    },
    {
     "name": "stdout",
     "output_type": "stream",
     "text": [
      "\n",
      "      Epoch    GPU_mem   box_loss   cls_loss   dfl_loss  Instances       Size\n"
     ]
    },
    {
     "name": "stderr",
     "output_type": "stream",
     "text": [
      "     56/100      3.21G     0.8094     0.5074     0.9383          6       1024: 100%|██████████| 409/409 [01:15<00:00,  5.45it/s]\n",
      "                 Class     Images  Instances      Box(P          R      mAP50  mAP50-95): 100%|██████████| 12/12 [00:02<00:00,  5.60it/s]"
     ]
    },
    {
     "name": "stdout",
     "output_type": "stream",
     "text": [
      "                   all        187       1799      0.917      0.907      0.936      0.665\n"
     ]
    },
    {
     "name": "stderr",
     "output_type": "stream",
     "text": [
      "\n"
     ]
    },
    {
     "name": "stdout",
     "output_type": "stream",
     "text": [
      "\n",
      "      Epoch    GPU_mem   box_loss   cls_loss   dfl_loss  Instances       Size\n"
     ]
    },
    {
     "name": "stderr",
     "output_type": "stream",
     "text": [
      "     57/100      3.41G     0.8079     0.5132     0.9392          4       1024: 100%|██████████| 409/409 [01:15<00:00,  5.43it/s]\n",
      "                 Class     Images  Instances      Box(P          R      mAP50  mAP50-95): 100%|██████████| 12/12 [00:02<00:00,  5.50it/s]"
     ]
    },
    {
     "name": "stdout",
     "output_type": "stream",
     "text": [
      "                   all        187       1799      0.939      0.905      0.936      0.667\n"
     ]
    },
    {
     "name": "stderr",
     "output_type": "stream",
     "text": [
      "\n"
     ]
    },
    {
     "name": "stdout",
     "output_type": "stream",
     "text": [
      "\n",
      "      Epoch    GPU_mem   box_loss   cls_loss   dfl_loss  Instances       Size\n"
     ]
    },
    {
     "name": "stderr",
     "output_type": "stream",
     "text": [
      "     58/100      3.39G     0.8025      0.504     0.9379         22       1024: 100%|██████████| 409/409 [01:15<00:00,  5.45it/s]\n",
      "                 Class     Images  Instances      Box(P          R      mAP50  mAP50-95): 100%|██████████| 12/12 [00:02<00:00,  5.59it/s]"
     ]
    },
    {
     "name": "stdout",
     "output_type": "stream",
     "text": [
      "                   all        187       1799      0.929      0.882      0.924      0.659\n"
     ]
    },
    {
     "name": "stderr",
     "output_type": "stream",
     "text": [
      "\n"
     ]
    },
    {
     "name": "stdout",
     "output_type": "stream",
     "text": [
      "\n",
      "      Epoch    GPU_mem   box_loss   cls_loss   dfl_loss  Instances       Size\n"
     ]
    },
    {
     "name": "stderr",
     "output_type": "stream",
     "text": [
      "     59/100      3.33G     0.7998     0.5039      0.934         25       1024: 100%|██████████| 409/409 [01:15<00:00,  5.42it/s]\n",
      "                 Class     Images  Instances      Box(P          R      mAP50  mAP50-95): 100%|██████████| 12/12 [00:02<00:00,  5.48it/s]"
     ]
    },
    {
     "name": "stdout",
     "output_type": "stream",
     "text": [
      "                   all        187       1799      0.923       0.89      0.926      0.663\n"
     ]
    },
    {
     "name": "stderr",
     "output_type": "stream",
     "text": [
      "\n"
     ]
    },
    {
     "name": "stdout",
     "output_type": "stream",
     "text": [
      "\n",
      "      Epoch    GPU_mem   box_loss   cls_loss   dfl_loss  Instances       Size\n"
     ]
    },
    {
     "name": "stderr",
     "output_type": "stream",
     "text": [
      "     60/100      3.25G     0.7938     0.5025     0.9311         10       1024: 100%|██████████| 409/409 [01:16<00:00,  5.37it/s]\n",
      "                 Class     Images  Instances      Box(P          R      mAP50  mAP50-95): 100%|██████████| 12/12 [00:02<00:00,  5.62it/s]"
     ]
    },
    {
     "name": "stdout",
     "output_type": "stream",
     "text": [
      "                   all        187       1799      0.912      0.911      0.932      0.663\n"
     ]
    },
    {
     "name": "stderr",
     "output_type": "stream",
     "text": [
      "\n"
     ]
    },
    {
     "name": "stdout",
     "output_type": "stream",
     "text": [
      "\n",
      "      Epoch    GPU_mem   box_loss   cls_loss   dfl_loss  Instances       Size\n"
     ]
    },
    {
     "name": "stderr",
     "output_type": "stream",
     "text": [
      "     61/100       3.2G     0.7944     0.5001     0.9352          7       1024: 100%|██████████| 409/409 [01:15<00:00,  5.42it/s]\n",
      "                 Class     Images  Instances      Box(P          R      mAP50  mAP50-95): 100%|██████████| 12/12 [00:02<00:00,  5.29it/s]"
     ]
    },
    {
     "name": "stdout",
     "output_type": "stream",
     "text": [
      "                   all        187       1799      0.904      0.908      0.931      0.671\n"
     ]
    },
    {
     "name": "stderr",
     "output_type": "stream",
     "text": [
      "\n"
     ]
    },
    {
     "name": "stdout",
     "output_type": "stream",
     "text": [
      "\n",
      "      Epoch    GPU_mem   box_loss   cls_loss   dfl_loss  Instances       Size\n"
     ]
    },
    {
     "name": "stderr",
     "output_type": "stream",
     "text": [
      "     62/100      3.38G     0.7876     0.4945     0.9309         32       1024: 100%|██████████| 409/409 [01:15<00:00,  5.43it/s]\n",
      "                 Class     Images  Instances      Box(P          R      mAP50  mAP50-95): 100%|██████████| 12/12 [00:02<00:00,  5.51it/s]"
     ]
    },
    {
     "name": "stdout",
     "output_type": "stream",
     "text": [
      "                   all        187       1799      0.919        0.9      0.931      0.667\n"
     ]
    },
    {
     "name": "stderr",
     "output_type": "stream",
     "text": [
      "\n"
     ]
    },
    {
     "name": "stdout",
     "output_type": "stream",
     "text": [
      "\n",
      "      Epoch    GPU_mem   box_loss   cls_loss   dfl_loss  Instances       Size\n"
     ]
    },
    {
     "name": "stderr",
     "output_type": "stream",
     "text": [
      "     63/100      3.26G     0.7876     0.4915     0.9304         10       1024: 100%|██████████| 409/409 [01:16<00:00,  5.38it/s]\n",
      "                 Class     Images  Instances      Box(P          R      mAP50  mAP50-95): 100%|██████████| 12/12 [00:02<00:00,  5.57it/s]"
     ]
    },
    {
     "name": "stdout",
     "output_type": "stream",
     "text": [
      "                   all        187       1799      0.928      0.909      0.932      0.667\n"
     ]
    },
    {
     "name": "stderr",
     "output_type": "stream",
     "text": [
      "\n"
     ]
    },
    {
     "name": "stdout",
     "output_type": "stream",
     "text": [
      "\n",
      "      Epoch    GPU_mem   box_loss   cls_loss   dfl_loss  Instances       Size\n"
     ]
    },
    {
     "name": "stderr",
     "output_type": "stream",
     "text": [
      "     64/100      3.22G     0.7831     0.4903     0.9286          7       1024: 100%|██████████| 409/409 [01:15<00:00,  5.40it/s]\n",
      "                 Class     Images  Instances      Box(P          R      mAP50  mAP50-95): 100%|██████████| 12/12 [00:02<00:00,  5.56it/s]"
     ]
    },
    {
     "name": "stdout",
     "output_type": "stream",
     "text": [
      "                   all        187       1799      0.918      0.911      0.927      0.671\n"
     ]
    },
    {
     "name": "stderr",
     "output_type": "stream",
     "text": [
      "\n"
     ]
    },
    {
     "name": "stdout",
     "output_type": "stream",
     "text": [
      "\n",
      "      Epoch    GPU_mem   box_loss   cls_loss   dfl_loss  Instances       Size\n"
     ]
    },
    {
     "name": "stderr",
     "output_type": "stream",
     "text": [
      "     65/100      3.19G     0.7787     0.4882     0.9248         20       1024: 100%|██████████| 409/409 [01:15<00:00,  5.40it/s]\n",
      "                 Class     Images  Instances      Box(P          R      mAP50  mAP50-95): 100%|██████████| 12/12 [00:02<00:00,  5.56it/s]"
     ]
    },
    {
     "name": "stdout",
     "output_type": "stream",
     "text": [
      "                   all        187       1799      0.942      0.897      0.932      0.662\n"
     ]
    },
    {
     "name": "stderr",
     "output_type": "stream",
     "text": [
      "\n"
     ]
    },
    {
     "name": "stdout",
     "output_type": "stream",
     "text": [
      "\n",
      "      Epoch    GPU_mem   box_loss   cls_loss   dfl_loss  Instances       Size\n"
     ]
    },
    {
     "name": "stderr",
     "output_type": "stream",
     "text": [
      "     66/100       3.3G     0.7753     0.4849     0.9271         13       1024: 100%|██████████| 409/409 [01:15<00:00,  5.43it/s]\n",
      "                 Class     Images  Instances      Box(P          R      mAP50  mAP50-95): 100%|██████████| 12/12 [00:02<00:00,  5.46it/s]"
     ]
    },
    {
     "name": "stdout",
     "output_type": "stream",
     "text": [
      "                   all        187       1799      0.933      0.897      0.933      0.664\n"
     ]
    },
    {
     "name": "stderr",
     "output_type": "stream",
     "text": [
      "\n"
     ]
    },
    {
     "name": "stdout",
     "output_type": "stream",
     "text": [
      "\n",
      "      Epoch    GPU_mem   box_loss   cls_loss   dfl_loss  Instances       Size\n"
     ]
    },
    {
     "name": "stderr",
     "output_type": "stream",
     "text": [
      "     67/100       3.5G     0.7674     0.4832     0.9273         32       1024: 100%|██████████| 409/409 [01:15<00:00,  5.45it/s]\n",
      "                 Class     Images  Instances      Box(P          R      mAP50  mAP50-95): 100%|██████████| 12/12 [00:02<00:00,  5.58it/s]"
     ]
    },
    {
     "name": "stdout",
     "output_type": "stream",
     "text": [
      "                   all        187       1799      0.942      0.895      0.935      0.664\n"
     ]
    },
    {
     "name": "stderr",
     "output_type": "stream",
     "text": [
      "\n"
     ]
    },
    {
     "name": "stdout",
     "output_type": "stream",
     "text": [
      "\n",
      "      Epoch    GPU_mem   box_loss   cls_loss   dfl_loss  Instances       Size\n"
     ]
    },
    {
     "name": "stderr",
     "output_type": "stream",
     "text": [
      "     68/100      3.55G     0.7672     0.4731     0.9233          3       1024: 100%|██████████| 409/409 [01:15<00:00,  5.44it/s]\n",
      "                 Class     Images  Instances      Box(P          R      mAP50  mAP50-95): 100%|██████████| 12/12 [00:02<00:00,  5.36it/s]"
     ]
    },
    {
     "name": "stdout",
     "output_type": "stream",
     "text": [
      "                   all        187       1799      0.924      0.899      0.932      0.668\n"
     ]
    },
    {
     "name": "stderr",
     "output_type": "stream",
     "text": [
      "\n"
     ]
    },
    {
     "name": "stdout",
     "output_type": "stream",
     "text": [
      "\n",
      "      Epoch    GPU_mem   box_loss   cls_loss   dfl_loss  Instances       Size\n"
     ]
    },
    {
     "name": "stderr",
     "output_type": "stream",
     "text": [
      "     69/100      3.16G     0.7573     0.4729     0.9186         21       1024: 100%|██████████| 409/409 [01:15<00:00,  5.44it/s]\n",
      "                 Class     Images  Instances      Box(P          R      mAP50  mAP50-95): 100%|██████████| 12/12 [00:02<00:00,  5.64it/s]"
     ]
    },
    {
     "name": "stdout",
     "output_type": "stream",
     "text": [
      "                   all        187       1799      0.932      0.896      0.928      0.668\n"
     ]
    },
    {
     "name": "stderr",
     "output_type": "stream",
     "text": [
      "\n"
     ]
    },
    {
     "name": "stdout",
     "output_type": "stream",
     "text": [
      "\n",
      "      Epoch    GPU_mem   box_loss   cls_loss   dfl_loss  Instances       Size\n"
     ]
    },
    {
     "name": "stderr",
     "output_type": "stream",
     "text": [
      "     70/100      3.47G     0.7602     0.4687     0.9213         11       1024: 100%|██████████| 409/409 [01:15<00:00,  5.43it/s]\n",
      "                 Class     Images  Instances      Box(P          R      mAP50  mAP50-95): 100%|██████████| 12/12 [00:02<00:00,  5.80it/s]"
     ]
    },
    {
     "name": "stdout",
     "output_type": "stream",
     "text": [
      "                   all        187       1799       0.93        0.9      0.938      0.671\n"
     ]
    },
    {
     "name": "stderr",
     "output_type": "stream",
     "text": [
      "\n"
     ]
    },
    {
     "name": "stdout",
     "output_type": "stream",
     "text": [
      "\n",
      "      Epoch    GPU_mem   box_loss   cls_loss   dfl_loss  Instances       Size\n"
     ]
    },
    {
     "name": "stderr",
     "output_type": "stream",
     "text": [
      "     71/100       3.2G     0.7559     0.4747     0.9201         16       1024: 100%|██████████| 409/409 [01:15<00:00,  5.43it/s]\n",
      "                 Class     Images  Instances      Box(P          R      mAP50  mAP50-95): 100%|██████████| 12/12 [00:02<00:00,  5.84it/s]"
     ]
    },
    {
     "name": "stdout",
     "output_type": "stream",
     "text": [
      "                   all        187       1799      0.929      0.898      0.935      0.667\n"
     ]
    },
    {
     "name": "stderr",
     "output_type": "stream",
     "text": [
      "\n"
     ]
    },
    {
     "name": "stdout",
     "output_type": "stream",
     "text": [
      "\n",
      "      Epoch    GPU_mem   box_loss   cls_loss   dfl_loss  Instances       Size\n"
     ]
    },
    {
     "name": "stderr",
     "output_type": "stream",
     "text": [
      "     72/100      3.23G      0.755     0.4726     0.9204          3       1024: 100%|██████████| 409/409 [01:14<00:00,  5.47it/s]\n",
      "                 Class     Images  Instances      Box(P          R      mAP50  mAP50-95): 100%|██████████| 12/12 [00:02<00:00,  5.43it/s]"
     ]
    },
    {
     "name": "stdout",
     "output_type": "stream",
     "text": [
      "                   all        187       1799      0.939      0.887      0.932      0.668\n"
     ]
    },
    {
     "name": "stderr",
     "output_type": "stream",
     "text": [
      "\n"
     ]
    },
    {
     "name": "stdout",
     "output_type": "stream",
     "text": [
      "\n",
      "      Epoch    GPU_mem   box_loss   cls_loss   dfl_loss  Instances       Size\n"
     ]
    },
    {
     "name": "stderr",
     "output_type": "stream",
     "text": [
      "     73/100       3.3G     0.7511     0.4678     0.9202         11       1024: 100%|██████████| 409/409 [01:15<00:00,  5.38it/s]\n",
      "                 Class     Images  Instances      Box(P          R      mAP50  mAP50-95): 100%|██████████| 12/12 [00:02<00:00,  5.61it/s]"
     ]
    },
    {
     "name": "stdout",
     "output_type": "stream",
     "text": [
      "                   all        187       1799      0.938      0.898      0.934       0.67\n"
     ]
    },
    {
     "name": "stderr",
     "output_type": "stream",
     "text": [
      "\n"
     ]
    },
    {
     "name": "stdout",
     "output_type": "stream",
     "text": [
      "\n",
      "      Epoch    GPU_mem   box_loss   cls_loss   dfl_loss  Instances       Size\n"
     ]
    },
    {
     "name": "stderr",
     "output_type": "stream",
     "text": [
      "     74/100      3.38G     0.7467     0.4624     0.9178          8       1024: 100%|██████████| 409/409 [01:15<00:00,  5.41it/s]\n",
      "                 Class     Images  Instances      Box(P          R      mAP50  mAP50-95): 100%|██████████| 12/12 [00:02<00:00,  5.61it/s]"
     ]
    },
    {
     "name": "stdout",
     "output_type": "stream",
     "text": [
      "                   all        187       1799       0.92      0.899      0.932      0.667\n"
     ]
    },
    {
     "name": "stderr",
     "output_type": "stream",
     "text": [
      "\n"
     ]
    },
    {
     "name": "stdout",
     "output_type": "stream",
     "text": [
      "\n",
      "      Epoch    GPU_mem   box_loss   cls_loss   dfl_loss  Instances       Size\n"
     ]
    },
    {
     "name": "stderr",
     "output_type": "stream",
     "text": [
      "     75/100      3.34G     0.7405     0.4564     0.9169          8       1024: 100%|██████████| 409/409 [01:15<00:00,  5.42it/s]\n",
      "                 Class     Images  Instances      Box(P          R      mAP50  mAP50-95): 100%|██████████| 12/12 [00:02<00:00,  5.41it/s]"
     ]
    },
    {
     "name": "stdout",
     "output_type": "stream",
     "text": [
      "                   all        187       1799      0.939      0.894      0.935      0.677\n"
     ]
    },
    {
     "name": "stderr",
     "output_type": "stream",
     "text": [
      "\n"
     ]
    },
    {
     "name": "stdout",
     "output_type": "stream",
     "text": [
      "\n",
      "      Epoch    GPU_mem   box_loss   cls_loss   dfl_loss  Instances       Size\n"
     ]
    },
    {
     "name": "stderr",
     "output_type": "stream",
     "text": [
      "     76/100      3.24G     0.7391     0.4601     0.9151          3       1024: 100%|██████████| 409/409 [01:15<00:00,  5.45it/s]\n",
      "                 Class     Images  Instances      Box(P          R      mAP50  mAP50-95): 100%|██████████| 12/12 [00:02<00:00,  5.72it/s]"
     ]
    },
    {
     "name": "stdout",
     "output_type": "stream",
     "text": [
      "                   all        187       1799       0.94      0.892      0.938      0.677\n"
     ]
    },
    {
     "name": "stderr",
     "output_type": "stream",
     "text": [
      "\n"
     ]
    },
    {
     "name": "stdout",
     "output_type": "stream",
     "text": [
      "\n",
      "      Epoch    GPU_mem   box_loss   cls_loss   dfl_loss  Instances       Size\n"
     ]
    },
    {
     "name": "stderr",
     "output_type": "stream",
     "text": [
      "     77/100      3.34G     0.7385     0.4574     0.9153          2       1024: 100%|██████████| 409/409 [01:15<00:00,  5.39it/s]\n",
      "                 Class     Images  Instances      Box(P          R      mAP50  mAP50-95): 100%|██████████| 12/12 [00:02<00:00,  5.62it/s]"
     ]
    },
    {
     "name": "stdout",
     "output_type": "stream",
     "text": [
      "                   all        187       1799      0.932      0.893      0.929      0.669\n"
     ]
    },
    {
     "name": "stderr",
     "output_type": "stream",
     "text": [
      "\n"
     ]
    },
    {
     "name": "stdout",
     "output_type": "stream",
     "text": [
      "\n",
      "      Epoch    GPU_mem   box_loss   cls_loss   dfl_loss  Instances       Size\n"
     ]
    },
    {
     "name": "stderr",
     "output_type": "stream",
     "text": [
      "     78/100      3.25G     0.7269     0.4487     0.9125         42       1024: 100%|██████████| 409/409 [01:15<00:00,  5.43it/s]\n",
      "                 Class     Images  Instances      Box(P          R      mAP50  mAP50-95): 100%|██████████| 12/12 [00:02<00:00,  5.62it/s]"
     ]
    },
    {
     "name": "stdout",
     "output_type": "stream",
     "text": [
      "                   all        187       1799      0.927      0.901      0.927      0.674\n"
     ]
    },
    {
     "name": "stderr",
     "output_type": "stream",
     "text": [
      "\n"
     ]
    },
    {
     "name": "stdout",
     "output_type": "stream",
     "text": [
      "\n",
      "      Epoch    GPU_mem   box_loss   cls_loss   dfl_loss  Instances       Size\n"
     ]
    },
    {
     "name": "stderr",
     "output_type": "stream",
     "text": [
      "     79/100      3.32G     0.7275     0.4499     0.9127         10       1024: 100%|██████████| 409/409 [01:15<00:00,  5.41it/s]\n",
      "                 Class     Images  Instances      Box(P          R      mAP50  mAP50-95): 100%|██████████| 12/12 [00:02<00:00,  5.23it/s]"
     ]
    },
    {
     "name": "stdout",
     "output_type": "stream",
     "text": [
      "                   all        187       1799      0.953      0.895      0.938      0.674\n"
     ]
    },
    {
     "name": "stderr",
     "output_type": "stream",
     "text": [
      "\n"
     ]
    },
    {
     "name": "stdout",
     "output_type": "stream",
     "text": [
      "\n",
      "      Epoch    GPU_mem   box_loss   cls_loss   dfl_loss  Instances       Size\n"
     ]
    },
    {
     "name": "stderr",
     "output_type": "stream",
     "text": [
      "     80/100       3.2G     0.7269     0.4556     0.9113         30       1024: 100%|██████████| 409/409 [01:15<00:00,  5.41it/s]\n",
      "                 Class     Images  Instances      Box(P          R      mAP50  mAP50-95): 100%|██████████| 12/12 [00:02<00:00,  5.39it/s]"
     ]
    },
    {
     "name": "stdout",
     "output_type": "stream",
     "text": [
      "                   all        187       1799      0.924      0.902      0.935      0.672\n"
     ]
    },
    {
     "name": "stderr",
     "output_type": "stream",
     "text": [
      "\n"
     ]
    },
    {
     "name": "stdout",
     "output_type": "stream",
     "text": [
      "\n",
      "      Epoch    GPU_mem   box_loss   cls_loss   dfl_loss  Instances       Size\n"
     ]
    },
    {
     "name": "stderr",
     "output_type": "stream",
     "text": [
      "     81/100      3.29G     0.7185     0.4468     0.9091         19       1024: 100%|██████████| 409/409 [01:15<00:00,  5.44it/s]\n",
      "                 Class     Images  Instances      Box(P          R      mAP50  mAP50-95): 100%|██████████| 12/12 [00:02<00:00,  5.72it/s]"
     ]
    },
    {
     "name": "stdout",
     "output_type": "stream",
     "text": [
      "                   all        187       1799      0.933      0.898      0.935      0.673\n"
     ]
    },
    {
     "name": "stderr",
     "output_type": "stream",
     "text": [
      "\n"
     ]
    },
    {
     "name": "stdout",
     "output_type": "stream",
     "text": [
      "\n",
      "      Epoch    GPU_mem   box_loss   cls_loss   dfl_loss  Instances       Size\n"
     ]
    },
    {
     "name": "stderr",
     "output_type": "stream",
     "text": [
      "     82/100      3.16G     0.7183     0.4471     0.9083          4       1024: 100%|██████████| 409/409 [01:15<00:00,  5.42it/s]\n",
      "                 Class     Images  Instances      Box(P          R      mAP50  mAP50-95): 100%|██████████| 12/12 [00:02<00:00,  5.37it/s]"
     ]
    },
    {
     "name": "stdout",
     "output_type": "stream",
     "text": [
      "                   all        187       1799      0.921      0.917      0.941       0.68\n"
     ]
    },
    {
     "name": "stderr",
     "output_type": "stream",
     "text": [
      "\n"
     ]
    },
    {
     "name": "stdout",
     "output_type": "stream",
     "text": [
      "\n",
      "      Epoch    GPU_mem   box_loss   cls_loss   dfl_loss  Instances       Size\n"
     ]
    },
    {
     "name": "stderr",
     "output_type": "stream",
     "text": [
      "     83/100      3.15G     0.7204     0.4444     0.9096         11       1024: 100%|██████████| 409/409 [01:15<00:00,  5.43it/s]\n",
      "                 Class     Images  Instances      Box(P          R      mAP50  mAP50-95): 100%|██████████| 12/12 [00:02<00:00,  5.57it/s]"
     ]
    },
    {
     "name": "stdout",
     "output_type": "stream",
     "text": [
      "                   all        187       1799      0.936      0.904      0.938      0.679\n"
     ]
    },
    {
     "name": "stderr",
     "output_type": "stream",
     "text": [
      "\n"
     ]
    },
    {
     "name": "stdout",
     "output_type": "stream",
     "text": [
      "\n",
      "      Epoch    GPU_mem   box_loss   cls_loss   dfl_loss  Instances       Size\n"
     ]
    },
    {
     "name": "stderr",
     "output_type": "stream",
     "text": [
      "     84/100      3.31G     0.7092     0.4385      0.906          8       1024: 100%|██████████| 409/409 [01:15<00:00,  5.45it/s]\n",
      "                 Class     Images  Instances      Box(P          R      mAP50  mAP50-95): 100%|██████████| 12/12 [00:02<00:00,  5.38it/s]"
     ]
    },
    {
     "name": "stdout",
     "output_type": "stream",
     "text": [
      "                   all        187       1799      0.934      0.898      0.938      0.678\n"
     ]
    },
    {
     "name": "stderr",
     "output_type": "stream",
     "text": [
      "\n"
     ]
    },
    {
     "name": "stdout",
     "output_type": "stream",
     "text": [
      "\n",
      "      Epoch    GPU_mem   box_loss   cls_loss   dfl_loss  Instances       Size\n"
     ]
    },
    {
     "name": "stderr",
     "output_type": "stream",
     "text": [
      "     85/100       3.4G     0.7094     0.4413     0.9061         28       1024: 100%|██████████| 409/409 [01:15<00:00,  5.43it/s]\n",
      "                 Class     Images  Instances      Box(P          R      mAP50  mAP50-95): 100%|██████████| 12/12 [00:02<00:00,  5.62it/s]"
     ]
    },
    {
     "name": "stdout",
     "output_type": "stream",
     "text": [
      "                   all        187       1799      0.943      0.882      0.934      0.668\n"
     ]
    },
    {
     "name": "stderr",
     "output_type": "stream",
     "text": [
      "\n"
     ]
    },
    {
     "name": "stdout",
     "output_type": "stream",
     "text": [
      "\n",
      "      Epoch    GPU_mem   box_loss   cls_loss   dfl_loss  Instances       Size\n"
     ]
    },
    {
     "name": "stderr",
     "output_type": "stream",
     "text": [
      "     86/100      3.38G     0.7119     0.4413     0.9069         11       1024: 100%|██████████| 409/409 [01:15<00:00,  5.38it/s]\n",
      "                 Class     Images  Instances      Box(P          R      mAP50  mAP50-95): 100%|██████████| 12/12 [00:02<00:00,  5.49it/s]"
     ]
    },
    {
     "name": "stdout",
     "output_type": "stream",
     "text": [
      "                   all        187       1799      0.902      0.904      0.935      0.672\n"
     ]
    },
    {
     "name": "stderr",
     "output_type": "stream",
     "text": [
      "\n"
     ]
    },
    {
     "name": "stdout",
     "output_type": "stream",
     "text": [
      "\n",
      "      Epoch    GPU_mem   box_loss   cls_loss   dfl_loss  Instances       Size\n"
     ]
    },
    {
     "name": "stderr",
     "output_type": "stream",
     "text": [
      "     87/100      3.59G     0.7071     0.4393     0.9033          0       1024: 100%|██████████| 409/409 [01:15<00:00,  5.41it/s]\n",
      "                 Class     Images  Instances      Box(P          R      mAP50  mAP50-95): 100%|██████████| 12/12 [00:02<00:00,  5.68it/s]"
     ]
    },
    {
     "name": "stdout",
     "output_type": "stream",
     "text": [
      "                   all        187       1799      0.947      0.891       0.93      0.676\n"
     ]
    },
    {
     "name": "stderr",
     "output_type": "stream",
     "text": [
      "\n"
     ]
    },
    {
     "name": "stdout",
     "output_type": "stream",
     "text": [
      "\n",
      "      Epoch    GPU_mem   box_loss   cls_loss   dfl_loss  Instances       Size\n"
     ]
    },
    {
     "name": "stderr",
     "output_type": "stream",
     "text": [
      "     88/100       3.3G     0.6988     0.4322     0.9007         28       1024: 100%|██████████| 409/409 [01:15<00:00,  5.41it/s]\n",
      "                 Class     Images  Instances      Box(P          R      mAP50  mAP50-95): 100%|██████████| 12/12 [00:02<00:00,  5.47it/s]"
     ]
    },
    {
     "name": "stdout",
     "output_type": "stream",
     "text": [
      "                   all        187       1799      0.915      0.917      0.936      0.672\n"
     ]
    },
    {
     "name": "stderr",
     "output_type": "stream",
     "text": [
      "\n"
     ]
    },
    {
     "name": "stdout",
     "output_type": "stream",
     "text": [
      "\n",
      "      Epoch    GPU_mem   box_loss   cls_loss   dfl_loss  Instances       Size\n"
     ]
    },
    {
     "name": "stderr",
     "output_type": "stream",
     "text": [
      "     89/100      3.27G      0.703     0.4332     0.9018         21       1024: 100%|██████████| 409/409 [01:15<00:00,  5.44it/s]\n",
      "                 Class     Images  Instances      Box(P          R      mAP50  mAP50-95): 100%|██████████| 12/12 [00:02<00:00,  5.68it/s]"
     ]
    },
    {
     "name": "stdout",
     "output_type": "stream",
     "text": [
      "                   all        187       1799      0.928      0.908      0.928      0.671\n"
     ]
    },
    {
     "name": "stderr",
     "output_type": "stream",
     "text": [
      "\n"
     ]
    },
    {
     "name": "stdout",
     "output_type": "stream",
     "text": [
      "\n",
      "      Epoch    GPU_mem   box_loss   cls_loss   dfl_loss  Instances       Size\n"
     ]
    },
    {
     "name": "stderr",
     "output_type": "stream",
     "text": [
      "     90/100      3.31G      0.693     0.4303      0.903          5       1024: 100%|██████████| 409/409 [01:15<00:00,  5.44it/s]\n",
      "                 Class     Images  Instances      Box(P          R      mAP50  mAP50-95): 100%|██████████| 12/12 [00:02<00:00,  5.30it/s]"
     ]
    },
    {
     "name": "stdout",
     "output_type": "stream",
     "text": [
      "                   all        187       1799      0.944      0.897      0.933      0.673\n"
     ]
    },
    {
     "name": "stderr",
     "output_type": "stream",
     "text": [
      "\n"
     ]
    },
    {
     "name": "stdout",
     "output_type": "stream",
     "text": [
      "Closing dataloader mosaic\n",
      "\n",
      "      Epoch    GPU_mem   box_loss   cls_loss   dfl_loss  Instances       Size\n"
     ]
    },
    {
     "name": "stderr",
     "output_type": "stream",
     "text": [
      "     91/100      3.16G     0.6041     0.3551     0.8599         12       1024: 100%|██████████| 409/409 [01:13<00:00,  5.59it/s]\n",
      "                 Class     Images  Instances      Box(P          R      mAP50  mAP50-95): 100%|██████████| 12/12 [00:02<00:00,  5.60it/s]"
     ]
    },
    {
     "name": "stdout",
     "output_type": "stream",
     "text": [
      "                   all        187       1799      0.904      0.897      0.933      0.671\n"
     ]
    },
    {
     "name": "stderr",
     "output_type": "stream",
     "text": [
      "\n"
     ]
    },
    {
     "name": "stdout",
     "output_type": "stream",
     "text": [
      "\n",
      "      Epoch    GPU_mem   box_loss   cls_loss   dfl_loss  Instances       Size\n"
     ]
    },
    {
     "name": "stderr",
     "output_type": "stream",
     "text": [
      "     92/100      3.02G     0.5919     0.3483     0.8554          3       1024: 100%|██████████| 409/409 [01:13<00:00,  5.58it/s]\n",
      "                 Class     Images  Instances      Box(P          R      mAP50  mAP50-95): 100%|██████████| 12/12 [00:02<00:00,  5.73it/s]"
     ]
    },
    {
     "name": "stdout",
     "output_type": "stream",
     "text": [
      "                   all        187       1799      0.921      0.908      0.934      0.677\n"
     ]
    },
    {
     "name": "stderr",
     "output_type": "stream",
     "text": [
      "\n"
     ]
    },
    {
     "name": "stdout",
     "output_type": "stream",
     "text": [
      "\n",
      "      Epoch    GPU_mem   box_loss   cls_loss   dfl_loss  Instances       Size\n"
     ]
    },
    {
     "name": "stderr",
     "output_type": "stream",
     "text": [
      "     93/100      3.02G     0.5869     0.3474     0.8543          3       1024: 100%|██████████| 409/409 [01:13<00:00,  5.60it/s]\n",
      "                 Class     Images  Instances      Box(P          R      mAP50  mAP50-95): 100%|██████████| 12/12 [00:02<00:00,  5.49it/s]"
     ]
    },
    {
     "name": "stdout",
     "output_type": "stream",
     "text": [
      "                   all        187       1799      0.938       0.88      0.924      0.669\n"
     ]
    },
    {
     "name": "stderr",
     "output_type": "stream",
     "text": [
      "\n"
     ]
    },
    {
     "name": "stdout",
     "output_type": "stream",
     "text": [
      "\n",
      "      Epoch    GPU_mem   box_loss   cls_loss   dfl_loss  Instances       Size\n"
     ]
    },
    {
     "name": "stderr",
     "output_type": "stream",
     "text": [
      "     94/100      3.03G     0.5763     0.3419     0.8507         12       1024: 100%|██████████| 409/409 [01:13<00:00,  5.59it/s]\n",
      "                 Class     Images  Instances      Box(P          R      mAP50  mAP50-95): 100%|██████████| 12/12 [00:02<00:00,  5.55it/s]"
     ]
    },
    {
     "name": "stdout",
     "output_type": "stream",
     "text": [
      "                   all        187       1799      0.952      0.878      0.932      0.675\n"
     ]
    },
    {
     "name": "stderr",
     "output_type": "stream",
     "text": [
      "\n"
     ]
    },
    {
     "name": "stdout",
     "output_type": "stream",
     "text": [
      "\n",
      "      Epoch    GPU_mem   box_loss   cls_loss   dfl_loss  Instances       Size\n"
     ]
    },
    {
     "name": "stderr",
     "output_type": "stream",
     "text": [
      "     95/100      3.02G     0.5712     0.3377      0.852          3       1024: 100%|██████████| 409/409 [01:12<00:00,  5.63it/s]\n",
      "                 Class     Images  Instances      Box(P          R      mAP50  mAP50-95): 100%|██████████| 12/12 [00:02<00:00,  5.78it/s]"
     ]
    },
    {
     "name": "stdout",
     "output_type": "stream",
     "text": [
      "                   all        187       1799      0.918        0.9      0.935      0.676\n"
     ]
    },
    {
     "name": "stderr",
     "output_type": "stream",
     "text": [
      "\n"
     ]
    },
    {
     "name": "stdout",
     "output_type": "stream",
     "text": [
      "\n",
      "      Epoch    GPU_mem   box_loss   cls_loss   dfl_loss  Instances       Size\n"
     ]
    },
    {
     "name": "stderr",
     "output_type": "stream",
     "text": [
      "     96/100      3.03G     0.5723     0.3399     0.8503         12       1024: 100%|██████████| 409/409 [01:13<00:00,  5.60it/s]\n",
      "                 Class     Images  Instances      Box(P          R      mAP50  mAP50-95): 100%|██████████| 12/12 [00:02<00:00,  5.75it/s]"
     ]
    },
    {
     "name": "stdout",
     "output_type": "stream",
     "text": [
      "                   all        187       1799      0.938      0.882      0.928      0.668\n"
     ]
    },
    {
     "name": "stderr",
     "output_type": "stream",
     "text": [
      "\n"
     ]
    },
    {
     "name": "stdout",
     "output_type": "stream",
     "text": [
      "\n",
      "      Epoch    GPU_mem   box_loss   cls_loss   dfl_loss  Instances       Size\n"
     ]
    },
    {
     "name": "stderr",
     "output_type": "stream",
     "text": [
      "     97/100      3.02G     0.5623     0.3324     0.8479         12       1024: 100%|██████████| 409/409 [01:12<00:00,  5.63it/s]\n",
      "                 Class     Images  Instances      Box(P          R      mAP50  mAP50-95): 100%|██████████| 12/12 [00:02<00:00,  5.40it/s]"
     ]
    },
    {
     "name": "stdout",
     "output_type": "stream",
     "text": [
      "                   all        187       1799      0.925      0.878      0.927      0.672\n"
     ]
    },
    {
     "name": "stderr",
     "output_type": "stream",
     "text": [
      "\n"
     ]
    },
    {
     "name": "stdout",
     "output_type": "stream",
     "text": [
      "\n",
      "      Epoch    GPU_mem   box_loss   cls_loss   dfl_loss  Instances       Size\n"
     ]
    },
    {
     "name": "stderr",
     "output_type": "stream",
     "text": [
      "     98/100      3.02G     0.5636     0.3323     0.8488         11       1024: 100%|██████████| 409/409 [01:12<00:00,  5.67it/s]\n",
      "                 Class     Images  Instances      Box(P          R      mAP50  mAP50-95): 100%|██████████| 12/12 [00:02<00:00,  5.48it/s]"
     ]
    },
    {
     "name": "stdout",
     "output_type": "stream",
     "text": [
      "                   all        187       1799       0.91      0.896      0.927      0.674\n"
     ]
    },
    {
     "name": "stderr",
     "output_type": "stream",
     "text": [
      "\n"
     ]
    },
    {
     "name": "stdout",
     "output_type": "stream",
     "text": [
      "\n",
      "      Epoch    GPU_mem   box_loss   cls_loss   dfl_loss  Instances       Size\n"
     ]
    },
    {
     "name": "stderr",
     "output_type": "stream",
     "text": [
      "     99/100      3.02G     0.5589     0.3322     0.8474         13       1024: 100%|██████████| 409/409 [01:12<00:00,  5.65it/s]\n",
      "                 Class     Images  Instances      Box(P          R      mAP50  mAP50-95): 100%|██████████| 12/12 [00:02<00:00,  5.66it/s]"
     ]
    },
    {
     "name": "stdout",
     "output_type": "stream",
     "text": [
      "                   all        187       1799      0.942      0.876      0.934      0.676\n"
     ]
    },
    {
     "name": "stderr",
     "output_type": "stream",
     "text": [
      "\n"
     ]
    },
    {
     "name": "stdout",
     "output_type": "stream",
     "text": [
      "\n",
      "      Epoch    GPU_mem   box_loss   cls_loss   dfl_loss  Instances       Size\n"
     ]
    },
    {
     "name": "stderr",
     "output_type": "stream",
     "text": [
      "    100/100      3.02G     0.5529      0.327     0.8462         12       1024: 100%|██████████| 409/409 [01:12<00:00,  5.64it/s]\n",
      "                 Class     Images  Instances      Box(P          R      mAP50  mAP50-95): 100%|██████████| 12/12 [00:02<00:00,  5.54it/s]"
     ]
    },
    {
     "name": "stdout",
     "output_type": "stream",
     "text": [
      "                   all        187       1799      0.932      0.896      0.932      0.678\n"
     ]
    },
    {
     "name": "stderr",
     "output_type": "stream",
     "text": [
      "\n"
     ]
    },
    {
     "name": "stdout",
     "output_type": "stream",
     "text": [
      "\n",
      "100 epochs completed in 2.177 hours.\n",
      "Optimizer stripped from runs\\detect\\train\\weights\\last.pt, 5.6MB\n",
      "Optimizer stripped from runs\\detect\\train\\weights\\best.pt, 5.6MB\n",
      "\n",
      "Validating runs\\detect\\train\\weights\\best.pt...\n",
      "Ultralytics 8.3.49  Python-3.12.9 torch-2.5.1 CUDA:0 (NVIDIA GeForce RTX 3060 Laptop GPU, 6144MiB)\n",
      "YOLO11n summary (fused): 238 layers, 2,582,932 parameters, 0 gradients, 6.3 GFLOPs\n"
     ]
    },
    {
     "name": "stderr",
     "output_type": "stream",
     "text": [
      "                 Class     Images  Instances      Box(P          R      mAP50  mAP50-95): 100%|██████████| 12/12 [00:03<00:00,  3.84it/s]\n"
     ]
    },
    {
     "name": "stdout",
     "output_type": "stream",
     "text": [
      "                   all        187       1799      0.921      0.917      0.941      0.679\n",
      "            basketball        163        165      0.854      0.745      0.814      0.452\n",
      "             made-shot         43         43      0.913      0.973      0.975      0.687\n",
      "                player        144       1402      0.932      0.959       0.98      0.815\n",
      "                   rim        187        189      0.986      0.989      0.994      0.765\n",
      "Speed: 0.7ms preprocess, 5.2ms inference, 0.0ms loss, 2.2ms postprocess per image\n",
      "Results saved to \u001b[1mruns\\detect\\train\u001b[0m\n"
     ]
    }
   ],
   "source": [
    "from ultralytics import YOLO\n",
    "\n",
    "model = YOLO(\"yolo11n.pt\")\n",
    "\n",
    "results = model.train(data=\"./datasets/bod_v1/data.yaml\", \n",
    "                      device=0,\n",
    "                      batch=8, \n",
    "                      epochs=100,\n",
    "                      imgsz=1024, \n",
    "                      optimizer='SGD', \n",
    "                      lr0=0.01, \n",
    "                      lrf=0.1, \n",
    "                      weight_decay=0.0005, \n",
    "                      task=\"detect\")"
   ]
  },
  {
   "cell_type": "markdown",
   "metadata": {},
   "source": [
    "Librerías, paquetes y funciones importadas"
   ]
  },
  {
   "cell_type": "code",
   "execution_count": 3,
   "metadata": {},
   "outputs": [],
   "source": [
    "def getColor(class_name):\n",
    "    switch = {\n",
    "        'player': (255, 0, 0),       # Azul\n",
    "        'basketball': (0, 165, 255), # Naranja\n",
    "        'rim': (0, 0, 255),          # Rojo\n",
    "        'made-shot': (0, 255, 0)     # Verde\n",
    "    }\n",
    "    return switch.get(class_name, (0, 0, 0)) \n",
    "\n",
    "def drawBBox(frame, x1, y1, x2, y2, label, class_name):\n",
    "    color = getColor(class_name)\n",
    "    cv2.rectangle(frame, (int(x1), int(y1)), (int(x2), int(y2)), color, 2)\n",
    "    cv2.putText(frame, label, (int(x1), int(y1) - 10), cv2.FONT_HERSHEY_SIMPLEX, 0.5, (255, 255, 255), 2)\n",
    "\n",
    "def drawPosition(frame, position, position_label):\n",
    "    cv2.ellipse(frame, (int(position[0]), int(position[1])), (9, 3), 0, 0, 360, (0, 0, 255), -1)\n",
    "    cv2.putText(frame, position_label, (int(position[0]) - 50, int(position[1]) + 25), cv2.FONT_HERSHEY_SIMPLEX, 0.5, (0, 0, 255), 2)"
   ]
  },
  {
   "cell_type": "code",
   "execution_count": 4,
   "metadata": {},
   "outputs": [
    {
     "name": "stdout",
     "output_type": "stream",
     "text": [
      "\n",
      "0: 576x1024 10 players, 1 rim, 16.6ms\n",
      "Speed: 6.1ms preprocess, 16.6ms inference, 2.1ms postprocess per image at shape (1, 3, 576, 1024)\n",
      "\n",
      "0: 576x1024 10 players, 1 rim, 11.0ms\n",
      "Speed: 5.6ms preprocess, 11.0ms inference, 2.0ms postprocess per image at shape (1, 3, 576, 1024)\n",
      "\n",
      "0: 576x1024 10 players, 1 rim, 26.1ms\n",
      "Speed: 5.6ms preprocess, 26.1ms inference, 2.0ms postprocess per image at shape (1, 3, 576, 1024)\n",
      "\n",
      "0: 576x1024 11 players, 1 rim, 26.4ms\n",
      "Speed: 6.2ms preprocess, 26.4ms inference, 2.0ms postprocess per image at shape (1, 3, 576, 1024)\n",
      "\n",
      "0: 576x1024 10 players, 1 rim, 27.4ms\n",
      "Speed: 5.6ms preprocess, 27.4ms inference, 4.6ms postprocess per image at shape (1, 3, 576, 1024)\n",
      "\n",
      "0: 576x1024 10 players, 1 rim, 26.6ms\n",
      "Speed: 7.0ms preprocess, 26.6ms inference, 2.0ms postprocess per image at shape (1, 3, 576, 1024)\n",
      "\n",
      "0: 576x1024 9 players, 1 rim, 28.6ms\n",
      "Speed: 6.4ms preprocess, 28.6ms inference, 2.0ms postprocess per image at shape (1, 3, 576, 1024)\n",
      "\n",
      "0: 576x1024 10 players, 1 rim, 28.0ms\n",
      "Speed: 6.2ms preprocess, 28.0ms inference, 4.0ms postprocess per image at shape (1, 3, 576, 1024)\n",
      "\n",
      "0: 576x1024 9 players, 1 rim, 57.9ms\n",
      "Speed: 6.6ms preprocess, 57.9ms inference, 2.5ms postprocess per image at shape (1, 3, 576, 1024)\n",
      "\n",
      "0: 576x1024 9 players, 1 rim, 55.8ms\n",
      "Speed: 7.7ms preprocess, 55.8ms inference, 3.3ms postprocess per image at shape (1, 3, 576, 1024)\n",
      "\n",
      "0: 576x1024 9 players, 1 rim, 57.9ms\n",
      "Speed: 8.7ms preprocess, 57.9ms inference, 2.0ms postprocess per image at shape (1, 3, 576, 1024)\n",
      "\n",
      "0: 576x1024 8 players, 1 rim, 54.0ms\n",
      "Speed: 7.5ms preprocess, 54.0ms inference, 3.4ms postprocess per image at shape (1, 3, 576, 1024)\n",
      "\n",
      "0: 576x1024 8 players, 1 rim, 52.0ms\n",
      "Speed: 8.0ms preprocess, 52.0ms inference, 3.0ms postprocess per image at shape (1, 3, 576, 1024)\n",
      "\n",
      "0: 576x1024 10 players, 1 rim, 51.9ms\n",
      "Speed: 8.5ms preprocess, 51.9ms inference, 2.0ms postprocess per image at shape (1, 3, 576, 1024)\n",
      "\n",
      "0: 576x1024 10 players, 1 rim, 52.2ms\n",
      "Speed: 7.6ms preprocess, 52.2ms inference, 2.5ms postprocess per image at shape (1, 3, 576, 1024)\n",
      "\n",
      "0: 576x1024 8 players, 1 rim, 52.5ms\n",
      "Speed: 8.4ms preprocess, 52.5ms inference, 3.5ms postprocess per image at shape (1, 3, 576, 1024)\n",
      "\n",
      "0: 576x1024 8 players, 1 rim, 54.3ms\n",
      "Speed: 8.0ms preprocess, 54.3ms inference, 2.7ms postprocess per image at shape (1, 3, 576, 1024)\n",
      "\n",
      "0: 576x1024 8 players, 1 rim, 57.3ms\n",
      "Speed: 7.9ms preprocess, 57.3ms inference, 3.0ms postprocess per image at shape (1, 3, 576, 1024)\n",
      "\n",
      "0: 576x1024 8 players, 1 rim, 53.0ms\n",
      "Speed: 7.2ms preprocess, 53.0ms inference, 2.0ms postprocess per image at shape (1, 3, 576, 1024)\n",
      "\n",
      "0: 576x1024 8 players, 1 rim, 55.2ms\n",
      "Speed: 8.2ms preprocess, 55.2ms inference, 3.0ms postprocess per image at shape (1, 3, 576, 1024)\n",
      "\n",
      "0: 576x1024 9 players, 1 rim, 53.3ms\n",
      "Speed: 8.0ms preprocess, 53.3ms inference, 3.5ms postprocess per image at shape (1, 3, 576, 1024)\n",
      "\n",
      "0: 576x1024 9 players, 1 rim, 54.8ms\n",
      "Speed: 7.0ms preprocess, 54.8ms inference, 3.0ms postprocess per image at shape (1, 3, 576, 1024)\n",
      "\n",
      "0: 576x1024 9 players, 1 rim, 57.9ms\n",
      "Speed: 8.0ms preprocess, 57.9ms inference, 2.0ms postprocess per image at shape (1, 3, 576, 1024)\n",
      "\n",
      "0: 576x1024 9 players, 1 rim, 56.1ms\n",
      "Speed: 7.7ms preprocess, 56.1ms inference, 3.8ms postprocess per image at shape (1, 3, 576, 1024)\n",
      "\n",
      "0: 576x1024 9 players, 1 rim, 56.3ms\n",
      "Speed: 8.5ms preprocess, 56.3ms inference, 4.4ms postprocess per image at shape (1, 3, 576, 1024)\n",
      "\n",
      "0: 576x1024 9 players, 1 rim, 54.8ms\n",
      "Speed: 8.4ms preprocess, 54.8ms inference, 2.0ms postprocess per image at shape (1, 3, 576, 1024)\n",
      "\n",
      "0: 576x1024 8 players, 1 rim, 56.0ms\n",
      "Speed: 9.0ms preprocess, 56.0ms inference, 4.0ms postprocess per image at shape (1, 3, 576, 1024)\n",
      "\n",
      "0: 576x1024 8 players, 1 rim, 55.2ms\n",
      "Speed: 8.2ms preprocess, 55.2ms inference, 4.6ms postprocess per image at shape (1, 3, 576, 1024)\n",
      "\n",
      "0: 576x1024 8 players, 1 rim, 57.0ms\n",
      "Speed: 7.3ms preprocess, 57.0ms inference, 3.0ms postprocess per image at shape (1, 3, 576, 1024)\n",
      "\n",
      "0: 576x1024 9 players, 1 rim, 56.3ms\n",
      "Speed: 7.3ms preprocess, 56.3ms inference, 3.2ms postprocess per image at shape (1, 3, 576, 1024)\n",
      "\n",
      "0: 576x1024 8 players, 1 rim, 56.5ms\n",
      "Speed: 7.8ms preprocess, 56.5ms inference, 4.9ms postprocess per image at shape (1, 3, 576, 1024)\n",
      "\n",
      "0: 576x1024 8 players, 1 rim, 55.8ms\n",
      "Speed: 7.9ms preprocess, 55.8ms inference, 2.0ms postprocess per image at shape (1, 3, 576, 1024)\n",
      "\n",
      "0: 576x1024 8 players, 1 rim, 57.7ms\n",
      "Speed: 7.8ms preprocess, 57.7ms inference, 3.0ms postprocess per image at shape (1, 3, 576, 1024)\n",
      "\n",
      "0: 576x1024 7 players, 1 rim, 55.0ms\n",
      "Speed: 9.0ms preprocess, 55.0ms inference, 4.0ms postprocess per image at shape (1, 3, 576, 1024)\n",
      "\n",
      "0: 576x1024 9 players, 1 rim, 57.6ms\n",
      "Speed: 6.9ms preprocess, 57.6ms inference, 3.0ms postprocess per image at shape (1, 3, 576, 1024)\n",
      "\n",
      "0: 576x1024 9 players, 1 rim, 56.0ms\n",
      "Speed: 8.0ms preprocess, 56.0ms inference, 4.0ms postprocess per image at shape (1, 3, 576, 1024)\n",
      "\n",
      "0: 576x1024 1 basketball, 10 players, 1 rim, 55.0ms\n",
      "Speed: 8.2ms preprocess, 55.0ms inference, 2.0ms postprocess per image at shape (1, 3, 576, 1024)\n",
      "\n",
      "0: 576x1024 11 players, 1 rim, 54.8ms\n",
      "Speed: 8.8ms preprocess, 54.8ms inference, 2.0ms postprocess per image at shape (1, 3, 576, 1024)\n",
      "\n",
      "0: 576x1024 8 players, 1 rim, 58.0ms\n",
      "Speed: 9.0ms preprocess, 58.0ms inference, 3.0ms postprocess per image at shape (1, 3, 576, 1024)\n",
      "\n",
      "0: 576x1024 7 players, 1 rim, 59.4ms\n",
      "Speed: 7.6ms preprocess, 59.4ms inference, 3.0ms postprocess per image at shape (1, 3, 576, 1024)\n",
      "\n",
      "0: 576x1024 8 players, 1 rim, 57.1ms\n",
      "Speed: 7.6ms preprocess, 57.1ms inference, 3.0ms postprocess per image at shape (1, 3, 576, 1024)\n",
      "\n",
      "0: 576x1024 8 players, 1 rim, 53.5ms\n",
      "Speed: 7.6ms preprocess, 53.5ms inference, 2.7ms postprocess per image at shape (1, 3, 576, 1024)\n",
      "\n",
      "0: 576x1024 9 players, 1 rim, 57.0ms\n",
      "Speed: 7.6ms preprocess, 57.0ms inference, 3.0ms postprocess per image at shape (1, 3, 576, 1024)\n",
      "\n",
      "0: 576x1024 1 basketball, 8 players, 1 rim, 58.0ms\n",
      "Speed: 8.0ms preprocess, 58.0ms inference, 3.0ms postprocess per image at shape (1, 3, 576, 1024)\n",
      "\n",
      "0: 576x1024 9 players, 1 rim, 56.4ms\n",
      "Speed: 7.7ms preprocess, 56.4ms inference, 3.0ms postprocess per image at shape (1, 3, 576, 1024)\n",
      "\n",
      "0: 576x1024 9 players, 1 rim, 56.5ms\n",
      "Speed: 7.5ms preprocess, 56.5ms inference, 3.0ms postprocess per image at shape (1, 3, 576, 1024)\n",
      "\n",
      "0: 576x1024 9 players, 1 rim, 58.8ms\n",
      "Speed: 7.0ms preprocess, 58.8ms inference, 3.3ms postprocess per image at shape (1, 3, 576, 1024)\n",
      "\n",
      "0: 576x1024 1 basketball, 8 players, 1 rim, 55.4ms\n",
      "Speed: 8.0ms preprocess, 55.4ms inference, 3.0ms postprocess per image at shape (1, 3, 576, 1024)\n",
      "\n",
      "0: 576x1024 1 basketball, 8 players, 1 rim, 57.2ms\n",
      "Speed: 7.0ms preprocess, 57.2ms inference, 3.0ms postprocess per image at shape (1, 3, 576, 1024)\n",
      "\n",
      "0: 576x1024 1 basketball, 7 players, 1 rim, 58.0ms\n",
      "Speed: 7.5ms preprocess, 58.0ms inference, 3.0ms postprocess per image at shape (1, 3, 576, 1024)\n",
      "\n",
      "0: 576x1024 1 basketball, 10 players, 1 rim, 54.0ms\n",
      "Speed: 9.0ms preprocess, 54.0ms inference, 3.0ms postprocess per image at shape (1, 3, 576, 1024)\n",
      "\n",
      "0: 576x1024 1 basketball, 10 players, 1 rim, 56.5ms\n",
      "Speed: 8.3ms preprocess, 56.5ms inference, 3.5ms postprocess per image at shape (1, 3, 576, 1024)\n",
      "\n",
      "0: 576x1024 1 basketball, 9 players, 1 rim, 57.0ms\n",
      "Speed: 10.0ms preprocess, 57.0ms inference, 4.0ms postprocess per image at shape (1, 3, 576, 1024)\n",
      "\n",
      "0: 576x1024 1 basketball, 11 players, 1 rim, 58.1ms\n",
      "Speed: 7.3ms preprocess, 58.1ms inference, 2.0ms postprocess per image at shape (1, 3, 576, 1024)\n",
      "\n",
      "0: 576x1024 1 basketball, 10 players, 1 rim, 60.3ms\n",
      "Speed: 9.1ms preprocess, 60.3ms inference, 3.7ms postprocess per image at shape (1, 3, 576, 1024)\n",
      "\n",
      "0: 576x1024 1 basketball, 9 players, 1 rim, 57.9ms\n",
      "Speed: 8.5ms preprocess, 57.9ms inference, 4.2ms postprocess per image at shape (1, 3, 576, 1024)\n",
      "\n",
      "0: 576x1024 1 basketball, 10 players, 1 rim, 58.8ms\n",
      "Speed: 7.5ms preprocess, 58.8ms inference, 3.0ms postprocess per image at shape (1, 3, 576, 1024)\n",
      "\n",
      "0: 576x1024 1 basketball, 11 players, 1 rim, 57.7ms\n",
      "Speed: 8.5ms preprocess, 57.7ms inference, 4.0ms postprocess per image at shape (1, 3, 576, 1024)\n",
      "\n",
      "0: 576x1024 1 basketball, 10 players, 1 rim, 57.0ms\n",
      "Speed: 7.5ms preprocess, 57.0ms inference, 4.0ms postprocess per image at shape (1, 3, 576, 1024)\n",
      "\n",
      "0: 576x1024 1 basketball, 10 players, 1 rim, 59.1ms\n",
      "Speed: 9.6ms preprocess, 59.1ms inference, 4.3ms postprocess per image at shape (1, 3, 576, 1024)\n",
      "\n",
      "0: 576x1024 1 basketball, 11 players, 1 rim, 59.0ms\n",
      "Speed: 8.2ms preprocess, 59.0ms inference, 3.0ms postprocess per image at shape (1, 3, 576, 1024)\n",
      "\n",
      "0: 576x1024 1 basketball, 11 players, 1 rim, 55.8ms\n",
      "Speed: 9.7ms preprocess, 55.8ms inference, 4.0ms postprocess per image at shape (1, 3, 576, 1024)\n",
      "\n",
      "0: 576x1024 1 basketball, 10 players, 1 rim, 58.8ms\n",
      "Speed: 7.5ms preprocess, 58.8ms inference, 4.1ms postprocess per image at shape (1, 3, 576, 1024)\n",
      "\n",
      "0: 576x1024 1 basketball, 10 players, 1 rim, 59.3ms\n",
      "Speed: 8.6ms preprocess, 59.3ms inference, 3.1ms postprocess per image at shape (1, 3, 576, 1024)\n",
      "\n",
      "0: 576x1024 2 basketballs, 10 players, 1 rim, 56.2ms\n",
      "Speed: 8.0ms preprocess, 56.2ms inference, 4.0ms postprocess per image at shape (1, 3, 576, 1024)\n",
      "\n",
      "0: 576x1024 1 basketball, 11 players, 1 rim, 60.0ms\n",
      "Speed: 8.1ms preprocess, 60.0ms inference, 2.0ms postprocess per image at shape (1, 3, 576, 1024)\n",
      "\n",
      "0: 576x1024 1 basketball, 10 players, 1 rim, 55.0ms\n",
      "Speed: 8.2ms preprocess, 55.0ms inference, 3.0ms postprocess per image at shape (1, 3, 576, 1024)\n",
      "\n",
      "0: 576x1024 1 basketball, 12 players, 1 rim, 57.0ms\n",
      "Speed: 8.0ms preprocess, 57.0ms inference, 4.0ms postprocess per image at shape (1, 3, 576, 1024)\n",
      "\n",
      "0: 576x1024 1 basketball, 11 players, 1 rim, 61.1ms\n",
      "Speed: 7.8ms preprocess, 61.1ms inference, 2.1ms postprocess per image at shape (1, 3, 576, 1024)\n",
      "\n",
      "0: 576x1024 1 basketball, 12 players, 1 rim, 58.1ms\n",
      "Speed: 7.0ms preprocess, 58.1ms inference, 3.0ms postprocess per image at shape (1, 3, 576, 1024)\n",
      "\n",
      "0: 576x1024 1 basketball, 13 players, 1 rim, 60.3ms\n",
      "Speed: 7.7ms preprocess, 60.3ms inference, 3.0ms postprocess per image at shape (1, 3, 576, 1024)\n",
      "\n",
      "0: 576x1024 1 basketball, 10 players, 1 rim, 59.0ms\n",
      "Speed: 7.5ms preprocess, 59.0ms inference, 4.0ms postprocess per image at shape (1, 3, 576, 1024)\n",
      "\n",
      "0: 576x1024 1 basketball, 10 players, 1 rim, 58.0ms\n",
      "Speed: 7.0ms preprocess, 58.0ms inference, 3.0ms postprocess per image at shape (1, 3, 576, 1024)\n",
      "\n",
      "0: 576x1024 1 basketball, 10 players, 1 rim, 59.1ms\n",
      "Speed: 8.2ms preprocess, 59.1ms inference, 4.5ms postprocess per image at shape (1, 3, 576, 1024)\n",
      "\n",
      "0: 576x1024 1 basketball, 11 players, 1 rim, 60.8ms\n",
      "Speed: 9.9ms preprocess, 60.8ms inference, 3.7ms postprocess per image at shape (1, 3, 576, 1024)\n",
      "\n",
      "0: 576x1024 1 basketball, 12 players, 1 rim, 57.8ms\n",
      "Speed: 8.8ms preprocess, 57.8ms inference, 2.0ms postprocess per image at shape (1, 3, 576, 1024)\n",
      "\n",
      "0: 576x1024 1 basketball, 12 players, 1 rim, 57.1ms\n",
      "Speed: 8.7ms preprocess, 57.1ms inference, 4.3ms postprocess per image at shape (1, 3, 576, 1024)\n",
      "\n",
      "0: 576x1024 1 basketball, 12 players, 1 rim, 57.3ms\n",
      "Speed: 8.0ms preprocess, 57.3ms inference, 4.5ms postprocess per image at shape (1, 3, 576, 1024)\n",
      "\n",
      "0: 576x1024 1 basketball, 12 players, 1 rim, 58.0ms\n",
      "Speed: 11.3ms preprocess, 58.0ms inference, 5.0ms postprocess per image at shape (1, 3, 576, 1024)\n",
      "\n",
      "0: 576x1024 2 basketballs, 11 players, 1 rim, 56.9ms\n",
      "Speed: 8.1ms preprocess, 56.9ms inference, 3.7ms postprocess per image at shape (1, 3, 576, 1024)\n",
      "\n",
      "0: 576x1024 1 basketball, 7 players, 1 rim, 57.8ms\n",
      "Speed: 8.2ms preprocess, 57.8ms inference, 3.2ms postprocess per image at shape (1, 3, 576, 1024)\n",
      "\n",
      "0: 576x1024 7 players, 1 rim, 57.8ms\n",
      "Speed: 8.8ms preprocess, 57.8ms inference, 4.0ms postprocess per image at shape (1, 3, 576, 1024)\n",
      "\n",
      "0: 576x1024 9 players, 1 rim, 56.0ms\n",
      "Speed: 7.6ms preprocess, 56.0ms inference, 3.0ms postprocess per image at shape (1, 3, 576, 1024)\n",
      "\n",
      "0: 576x1024 1 basketball, 8 players, 1 rim, 56.0ms\n",
      "Speed: 10.9ms preprocess, 56.0ms inference, 3.0ms postprocess per image at shape (1, 3, 576, 1024)\n",
      "\n",
      "0: 576x1024 1 basketball, 8 players, 1 rim, 58.9ms\n",
      "Speed: 8.3ms preprocess, 58.9ms inference, 3.0ms postprocess per image at shape (1, 3, 576, 1024)\n",
      "\n",
      "0: 576x1024 1 basketball, 8 players, 1 rim, 55.7ms\n",
      "Speed: 7.0ms preprocess, 55.7ms inference, 4.1ms postprocess per image at shape (1, 3, 576, 1024)\n",
      "\n",
      "0: 576x1024 1 basketball, 9 players, 1 rim, 59.6ms\n",
      "Speed: 7.5ms preprocess, 59.6ms inference, 4.0ms postprocess per image at shape (1, 3, 576, 1024)\n",
      "\n",
      "0: 576x1024 1 basketball, 10 players, 1 rim, 58.1ms\n",
      "Speed: 7.6ms preprocess, 58.1ms inference, 2.6ms postprocess per image at shape (1, 3, 576, 1024)\n",
      "\n",
      "0: 576x1024 1 basketball, 10 players, 1 rim, 59.9ms\n",
      "Speed: 7.0ms preprocess, 59.9ms inference, 2.0ms postprocess per image at shape (1, 3, 576, 1024)\n",
      "\n",
      "0: 576x1024 1 basketball, 10 players, 1 rim, 58.8ms\n",
      "Speed: 7.3ms preprocess, 58.8ms inference, 3.4ms postprocess per image at shape (1, 3, 576, 1024)\n",
      "\n",
      "0: 576x1024 1 basketball, 10 players, 1 rim, 60.1ms\n",
      "Speed: 8.8ms preprocess, 60.1ms inference, 3.5ms postprocess per image at shape (1, 3, 576, 1024)\n",
      "\n",
      "0: 576x1024 1 basketball, 10 players, 1 rim, 55.4ms\n",
      "Speed: 7.7ms preprocess, 55.4ms inference, 2.5ms postprocess per image at shape (1, 3, 576, 1024)\n",
      "\n",
      "0: 576x1024 1 basketball, 10 players, 1 rim, 57.7ms\n",
      "Speed: 7.6ms preprocess, 57.7ms inference, 3.0ms postprocess per image at shape (1, 3, 576, 1024)\n",
      "\n",
      "0: 576x1024 10 players, 1 rim, 57.5ms\n",
      "Speed: 9.4ms preprocess, 57.5ms inference, 3.3ms postprocess per image at shape (1, 3, 576, 1024)\n",
      "\n",
      "0: 576x1024 1 basketball, 9 players, 1 rim, 56.6ms\n",
      "Speed: 7.6ms preprocess, 56.6ms inference, 3.0ms postprocess per image at shape (1, 3, 576, 1024)\n",
      "\n",
      "0: 576x1024 1 basketball, 10 players, 1 rim, 58.4ms\n",
      "Speed: 7.9ms preprocess, 58.4ms inference, 3.1ms postprocess per image at shape (1, 3, 576, 1024)\n",
      "\n",
      "0: 576x1024 1 basketball, 10 players, 1 rim, 54.7ms\n",
      "Speed: 8.2ms preprocess, 54.7ms inference, 3.5ms postprocess per image at shape (1, 3, 576, 1024)\n",
      "\n",
      "0: 576x1024 1 basketball, 11 players, 1 rim, 58.5ms\n",
      "Speed: 8.2ms preprocess, 58.5ms inference, 3.0ms postprocess per image at shape (1, 3, 576, 1024)\n",
      "\n",
      "0: 576x1024 1 basketball, 9 players, 1 rim, 61.0ms\n",
      "Speed: 8.2ms preprocess, 61.0ms inference, 3.0ms postprocess per image at shape (1, 3, 576, 1024)\n",
      "\n",
      "0: 576x1024 1 basketball, 8 players, 1 rim, 59.0ms\n",
      "Speed: 7.1ms preprocess, 59.0ms inference, 3.0ms postprocess per image at shape (1, 3, 576, 1024)\n",
      "\n",
      "0: 576x1024 1 basketball, 9 players, 1 rim, 55.8ms\n",
      "Speed: 8.6ms preprocess, 55.8ms inference, 2.5ms postprocess per image at shape (1, 3, 576, 1024)\n",
      "\n",
      "0: 576x1024 1 basketball, 8 players, 1 rim, 57.7ms\n",
      "Speed: 7.0ms preprocess, 57.7ms inference, 2.0ms postprocess per image at shape (1, 3, 576, 1024)\n",
      "\n",
      "0: 576x1024 1 basketball, 9 players, 1 rim, 57.0ms\n",
      "Speed: 10.6ms preprocess, 57.0ms inference, 3.0ms postprocess per image at shape (1, 3, 576, 1024)\n",
      "\n",
      "0: 576x1024 1 basketball, 10 players, 1 rim, 56.3ms\n",
      "Speed: 8.1ms preprocess, 56.3ms inference, 4.5ms postprocess per image at shape (1, 3, 576, 1024)\n",
      "\n",
      "0: 576x1024 10 players, 1 rim, 56.1ms\n",
      "Speed: 10.5ms preprocess, 56.1ms inference, 4.8ms postprocess per image at shape (1, 3, 576, 1024)\n",
      "\n",
      "0: 576x1024 11 players, 1 rim, 59.0ms\n",
      "Speed: 8.0ms preprocess, 59.0ms inference, 4.0ms postprocess per image at shape (1, 3, 576, 1024)\n",
      "\n",
      "0: 576x1024 9 players, 1 rim, 55.3ms\n",
      "Speed: 8.0ms preprocess, 55.3ms inference, 5.5ms postprocess per image at shape (1, 3, 576, 1024)\n",
      "\n",
      "0: 576x1024 1 basketball, 9 players, 1 rim, 56.0ms\n",
      "Speed: 8.0ms preprocess, 56.0ms inference, 5.0ms postprocess per image at shape (1, 3, 576, 1024)\n",
      "\n",
      "0: 576x1024 1 basketball, 8 players, 1 rim, 56.8ms\n",
      "Speed: 9.8ms preprocess, 56.8ms inference, 4.1ms postprocess per image at shape (1, 3, 576, 1024)\n",
      "\n",
      "0: 576x1024 1 basketball, 9 players, 1 rim, 56.0ms\n",
      "Speed: 7.5ms preprocess, 56.0ms inference, 3.0ms postprocess per image at shape (1, 3, 576, 1024)\n",
      "\n",
      "0: 576x1024 1 basketball, 8 players, 1 rim, 56.6ms\n",
      "Speed: 7.1ms preprocess, 56.6ms inference, 3.4ms postprocess per image at shape (1, 3, 576, 1024)\n",
      "\n",
      "0: 576x1024 1 basketball, 10 players, 1 rim, 54.0ms\n",
      "Speed: 7.2ms preprocess, 54.0ms inference, 5.0ms postprocess per image at shape (1, 3, 576, 1024)\n",
      "\n",
      "0: 576x1024 1 basketball, 9 players, 1 rim, 57.0ms\n",
      "Speed: 8.3ms preprocess, 57.0ms inference, 4.0ms postprocess per image at shape (1, 3, 576, 1024)\n",
      "\n",
      "0: 576x1024 1 basketball, 9 players, 1 rim, 57.2ms\n",
      "Speed: 7.8ms preprocess, 57.2ms inference, 3.0ms postprocess per image at shape (1, 3, 576, 1024)\n",
      "\n",
      "0: 576x1024 1 basketball, 8 players, 1 rim, 54.0ms\n",
      "Speed: 8.4ms preprocess, 54.0ms inference, 3.0ms postprocess per image at shape (1, 3, 576, 1024)\n",
      "\n",
      "0: 576x1024 1 basketball, 9 players, 1 rim, 54.6ms\n",
      "Speed: 8.0ms preprocess, 54.6ms inference, 2.0ms postprocess per image at shape (1, 3, 576, 1024)\n",
      "\n",
      "0: 576x1024 9 players, 1 rim, 57.0ms\n",
      "Speed: 8.0ms preprocess, 57.0ms inference, 3.0ms postprocess per image at shape (1, 3, 576, 1024)\n",
      "\n",
      "0: 576x1024 9 players, 1 rim, 57.5ms\n",
      "Speed: 8.6ms preprocess, 57.5ms inference, 4.0ms postprocess per image at shape (1, 3, 576, 1024)\n",
      "\n",
      "0: 576x1024 9 players, 1 rim, 57.0ms\n",
      "Speed: 8.1ms preprocess, 57.0ms inference, 4.0ms postprocess per image at shape (1, 3, 576, 1024)\n",
      "\n",
      "0: 576x1024 10 players, 1 rim, 56.1ms\n",
      "Speed: 7.5ms preprocess, 56.1ms inference, 2.5ms postprocess per image at shape (1, 3, 576, 1024)\n",
      "\n",
      "0: 576x1024 9 players, 1 rim, 58.1ms\n",
      "Speed: 7.1ms preprocess, 58.1ms inference, 2.5ms postprocess per image at shape (1, 3, 576, 1024)\n",
      "\n",
      "0: 576x1024 1 basketball, 9 players, 1 rim, 58.0ms\n",
      "Speed: 9.0ms preprocess, 58.0ms inference, 2.0ms postprocess per image at shape (1, 3, 576, 1024)\n",
      "\n",
      "0: 576x1024 9 players, 1 rim, 56.8ms\n",
      "Speed: 7.4ms preprocess, 56.8ms inference, 3.0ms postprocess per image at shape (1, 3, 576, 1024)\n",
      "\n",
      "0: 576x1024 1 basketball, 10 players, 1 rim, 55.6ms\n",
      "Speed: 8.1ms preprocess, 55.6ms inference, 4.0ms postprocess per image at shape (1, 3, 576, 1024)\n",
      "\n",
      "0: 576x1024 10 players, 1 rim, 56.5ms\n",
      "Speed: 8.0ms preprocess, 56.5ms inference, 2.0ms postprocess per image at shape (1, 3, 576, 1024)\n",
      "\n",
      "0: 576x1024 1 basketball, 10 players, 1 rim, 58.2ms\n",
      "Speed: 7.8ms preprocess, 58.2ms inference, 3.3ms postprocess per image at shape (1, 3, 576, 1024)\n",
      "\n",
      "0: 576x1024 1 basketball, 10 players, 1 rim, 56.0ms\n",
      "Speed: 8.0ms preprocess, 56.0ms inference, 2.1ms postprocess per image at shape (1, 3, 576, 1024)\n",
      "\n",
      "0: 576x1024 1 basketball, 9 players, 1 rim, 57.7ms\n",
      "Speed: 7.1ms preprocess, 57.7ms inference, 2.3ms postprocess per image at shape (1, 3, 576, 1024)\n",
      "\n",
      "0: 576x1024 2 basketballs, 10 players, 1 rim, 59.0ms\n",
      "Speed: 9.0ms preprocess, 59.0ms inference, 4.0ms postprocess per image at shape (1, 3, 576, 1024)\n",
      "\n",
      "0: 576x1024 1 basketball, 10 players, 1 rim, 57.3ms\n",
      "Speed: 8.3ms preprocess, 57.3ms inference, 3.0ms postprocess per image at shape (1, 3, 576, 1024)\n",
      "\n",
      "0: 576x1024 1 basketball, 10 players, 1 rim, 54.5ms\n",
      "Speed: 9.0ms preprocess, 54.5ms inference, 3.0ms postprocess per image at shape (1, 3, 576, 1024)\n",
      "\n",
      "0: 576x1024 1 basketball, 11 players, 1 rim, 55.8ms\n",
      "Speed: 9.4ms preprocess, 55.8ms inference, 3.0ms postprocess per image at shape (1, 3, 576, 1024)\n",
      "\n",
      "0: 576x1024 1 basketball, 11 players, 1 rim, 58.3ms\n",
      "Speed: 8.1ms preprocess, 58.3ms inference, 2.4ms postprocess per image at shape (1, 3, 576, 1024)\n",
      "\n",
      "0: 576x1024 1 basketball, 11 players, 1 rim, 55.0ms\n",
      "Speed: 8.0ms preprocess, 55.0ms inference, 4.0ms postprocess per image at shape (1, 3, 576, 1024)\n",
      "\n",
      "0: 576x1024 1 basketball, 11 players, 1 rim, 55.3ms\n",
      "Speed: 9.2ms preprocess, 55.3ms inference, 3.0ms postprocess per image at shape (1, 3, 576, 1024)\n",
      "\n",
      "0: 576x1024 1 basketball, 12 players, 1 rim, 54.4ms\n",
      "Speed: 8.8ms preprocess, 54.4ms inference, 3.5ms postprocess per image at shape (1, 3, 576, 1024)\n",
      "\n",
      "0: 576x1024 1 basketball, 11 players, 1 rim, 54.6ms\n",
      "Speed: 7.8ms preprocess, 54.6ms inference, 2.4ms postprocess per image at shape (1, 3, 576, 1024)\n",
      "\n",
      "0: 576x1024 1 basketball, 11 players, 1 rim, 54.4ms\n",
      "Speed: 9.4ms preprocess, 54.4ms inference, 3.8ms postprocess per image at shape (1, 3, 576, 1024)\n",
      "\n",
      "0: 576x1024 10 players, 1 rim, 59.4ms\n",
      "Speed: 7.5ms preprocess, 59.4ms inference, 3.6ms postprocess per image at shape (1, 3, 576, 1024)\n",
      "\n",
      "0: 576x1024 10 players, 1 rim, 56.0ms\n",
      "Speed: 9.0ms preprocess, 56.0ms inference, 2.0ms postprocess per image at shape (1, 3, 576, 1024)\n",
      "\n",
      "0: 576x1024 10 players, 1 rim, 56.4ms\n",
      "Speed: 10.2ms preprocess, 56.4ms inference, 3.5ms postprocess per image at shape (1, 3, 576, 1024)\n",
      "\n",
      "0: 576x1024 1 basketball, 9 players, 1 rim, 57.1ms\n",
      "Speed: 8.1ms preprocess, 57.1ms inference, 3.0ms postprocess per image at shape (1, 3, 576, 1024)\n",
      "\n",
      "0: 576x1024 9 players, 1 rim, 56.0ms\n",
      "Speed: 10.3ms preprocess, 56.0ms inference, 2.0ms postprocess per image at shape (1, 3, 576, 1024)\n",
      "\n",
      "0: 576x1024 1 basketball, 9 players, 1 rim, 56.5ms\n",
      "Speed: 8.1ms preprocess, 56.5ms inference, 5.1ms postprocess per image at shape (1, 3, 576, 1024)\n",
      "\n",
      "0: 576x1024 2 basketballs, 11 players, 1 rim, 57.4ms\n",
      "Speed: 7.8ms preprocess, 57.4ms inference, 3.2ms postprocess per image at shape (1, 3, 576, 1024)\n",
      "\n",
      "0: 576x1024 1 basketball, 10 players, 1 rim, 59.0ms\n",
      "Speed: 8.0ms preprocess, 59.0ms inference, 4.0ms postprocess per image at shape (1, 3, 576, 1024)\n",
      "\n",
      "0: 576x1024 10 players, 1 rim, 58.0ms\n",
      "Speed: 8.0ms preprocess, 58.0ms inference, 4.0ms postprocess per image at shape (1, 3, 576, 1024)\n",
      "\n",
      "0: 576x1024 10 players, 1 rim, 57.7ms\n",
      "Speed: 8.0ms preprocess, 57.7ms inference, 3.0ms postprocess per image at shape (1, 3, 576, 1024)\n",
      "\n",
      "0: 576x1024 10 players, 1 rim, 59.0ms\n",
      "Speed: 8.2ms preprocess, 59.0ms inference, 3.0ms postprocess per image at shape (1, 3, 576, 1024)\n",
      "\n",
      "0: 576x1024 10 players, 1 rim, 58.0ms\n",
      "Speed: 8.5ms preprocess, 58.0ms inference, 5.0ms postprocess per image at shape (1, 3, 576, 1024)\n",
      "\n",
      "0: 576x1024 1 basketball, 10 players, 1 rim, 56.9ms\n",
      "Speed: 7.0ms preprocess, 56.9ms inference, 3.2ms postprocess per image at shape (1, 3, 576, 1024)\n",
      "\n",
      "0: 576x1024 1 basketball, 10 players, 1 rim, 56.0ms\n",
      "Speed: 7.0ms preprocess, 56.0ms inference, 5.0ms postprocess per image at shape (1, 3, 576, 1024)\n",
      "\n",
      "0: 576x1024 1 basketball, 11 players, 1 rim, 56.7ms\n",
      "Speed: 7.5ms preprocess, 56.7ms inference, 4.2ms postprocess per image at shape (1, 3, 576, 1024)\n",
      "\n",
      "0: 576x1024 1 basketball, 10 players, 1 rim, 57.9ms\n",
      "Speed: 8.0ms preprocess, 57.9ms inference, 3.0ms postprocess per image at shape (1, 3, 576, 1024)\n",
      "\n",
      "0: 576x1024 2 basketballs, 10 players, 1 rim, 58.2ms\n",
      "Speed: 7.1ms preprocess, 58.2ms inference, 3.0ms postprocess per image at shape (1, 3, 576, 1024)\n",
      "\n",
      "0: 576x1024 2 basketballs, 9 players, 1 rim, 56.8ms\n",
      "Speed: 8.3ms preprocess, 56.8ms inference, 3.6ms postprocess per image at shape (1, 3, 576, 1024)\n",
      "\n",
      "0: 576x1024 1 basketball, 9 players, 1 rim, 58.0ms\n",
      "Speed: 8.0ms preprocess, 58.0ms inference, 4.0ms postprocess per image at shape (1, 3, 576, 1024)\n",
      "\n",
      "0: 576x1024 1 basketball, 10 players, 1 rim, 55.4ms\n",
      "Speed: 8.5ms preprocess, 55.4ms inference, 3.0ms postprocess per image at shape (1, 3, 576, 1024)\n",
      "\n",
      "0: 576x1024 1 basketball, 9 players, 1 rim, 56.7ms\n",
      "Speed: 9.1ms preprocess, 56.7ms inference, 4.0ms postprocess per image at shape (1, 3, 576, 1024)\n",
      "\n",
      "0: 576x1024 1 basketball, 9 players, 1 rim, 57.0ms\n",
      "Speed: 9.4ms preprocess, 57.0ms inference, 4.0ms postprocess per image at shape (1, 3, 576, 1024)\n",
      "\n",
      "0: 576x1024 1 basketball, 9 players, 1 rim, 56.6ms\n",
      "Speed: 8.0ms preprocess, 56.6ms inference, 3.0ms postprocess per image at shape (1, 3, 576, 1024)\n",
      "\n",
      "0: 576x1024 2 basketballs, 9 players, 1 rim, 58.0ms\n",
      "Speed: 9.0ms preprocess, 58.0ms inference, 4.0ms postprocess per image at shape (1, 3, 576, 1024)\n",
      "\n",
      "0: 576x1024 2 basketballs, 9 players, 1 rim, 55.6ms\n",
      "Speed: 9.1ms preprocess, 55.6ms inference, 4.6ms postprocess per image at shape (1, 3, 576, 1024)\n",
      "\n",
      "0: 576x1024 2 basketballs, 9 players, 1 rim, 56.7ms\n",
      "Speed: 8.1ms preprocess, 56.7ms inference, 3.8ms postprocess per image at shape (1, 3, 576, 1024)\n",
      "\n",
      "0: 576x1024 1 basketball, 11 players, 1 rim, 56.0ms\n",
      "Speed: 9.2ms preprocess, 56.0ms inference, 4.0ms postprocess per image at shape (1, 3, 576, 1024)\n",
      "\n",
      "0: 576x1024 1 basketball, 9 players, 1 rim, 61.9ms\n",
      "Speed: 7.4ms preprocess, 61.9ms inference, 3.1ms postprocess per image at shape (1, 3, 576, 1024)\n",
      "\n",
      "0: 576x1024 1 basketball, 7 players, 1 rim, 60.0ms\n",
      "Speed: 9.0ms preprocess, 60.0ms inference, 5.0ms postprocess per image at shape (1, 3, 576, 1024)\n",
      "\n",
      "0: 576x1024 1 basketball, 10 players, 1 rim, 57.1ms\n",
      "Speed: 8.6ms preprocess, 57.1ms inference, 3.0ms postprocess per image at shape (1, 3, 576, 1024)\n",
      "\n",
      "0: 576x1024 1 basketball, 12 players, 1 rim, 57.2ms\n",
      "Speed: 8.6ms preprocess, 57.2ms inference, 3.0ms postprocess per image at shape (1, 3, 576, 1024)\n",
      "\n",
      "0: 576x1024 1 basketball, 12 players, 1 rim, 57.1ms\n",
      "Speed: 8.2ms preprocess, 57.1ms inference, 4.2ms postprocess per image at shape (1, 3, 576, 1024)\n",
      "\n",
      "0: 576x1024 1 basketball, 9 players, 1 rim, 58.6ms\n",
      "Speed: 7.5ms preprocess, 58.6ms inference, 3.0ms postprocess per image at shape (1, 3, 576, 1024)\n",
      "\n",
      "0: 576x1024 1 basketball, 8 players, 1 rim, 55.0ms\n",
      "Speed: 8.5ms preprocess, 55.0ms inference, 3.0ms postprocess per image at shape (1, 3, 576, 1024)\n",
      "\n",
      "0: 576x1024 1 basketball, 7 players, 1 rim, 56.1ms\n",
      "Speed: 8.8ms preprocess, 56.1ms inference, 4.8ms postprocess per image at shape (1, 3, 576, 1024)\n",
      "\n",
      "0: 576x1024 1 basketball, 8 players, 1 rim, 56.0ms\n",
      "Speed: 10.0ms preprocess, 56.0ms inference, 4.0ms postprocess per image at shape (1, 3, 576, 1024)\n",
      "\n",
      "0: 576x1024 1 basketball, 9 players, 2 rims, 57.8ms\n",
      "Speed: 9.4ms preprocess, 57.8ms inference, 4.5ms postprocess per image at shape (1, 3, 576, 1024)\n",
      "\n",
      "0: 576x1024 1 basketball, 9 players, 2 rims, 58.2ms\n",
      "Speed: 8.5ms preprocess, 58.2ms inference, 3.0ms postprocess per image at shape (1, 3, 576, 1024)\n",
      "\n",
      "0: 576x1024 1 basketball, 8 players, 1 rim, 59.0ms\n",
      "Speed: 7.6ms preprocess, 59.0ms inference, 3.0ms postprocess per image at shape (1, 3, 576, 1024)\n",
      "\n",
      "0: 576x1024 1 basketball, 9 players, 1 rim, 57.5ms\n",
      "Speed: 8.5ms preprocess, 57.5ms inference, 2.0ms postprocess per image at shape (1, 3, 576, 1024)\n",
      "\n",
      "0: 576x1024 1 basketball, 9 players, 1 rim, 55.8ms\n",
      "Speed: 7.7ms preprocess, 55.8ms inference, 3.3ms postprocess per image at shape (1, 3, 576, 1024)\n",
      "\n",
      "0: 576x1024 1 basketball, 8 players, 1 rim, 61.8ms\n",
      "Speed: 8.1ms preprocess, 61.8ms inference, 2.0ms postprocess per image at shape (1, 3, 576, 1024)\n",
      "\n",
      "0: 576x1024 1 basketball, 9 players, 1 rim, 60.7ms\n",
      "Speed: 8.5ms preprocess, 60.7ms inference, 4.9ms postprocess per image at shape (1, 3, 576, 1024)\n",
      "\n",
      "0: 576x1024 1 basketball, 9 players, 1 rim, 59.0ms\n",
      "Speed: 8.5ms preprocess, 59.0ms inference, 3.0ms postprocess per image at shape (1, 3, 576, 1024)\n",
      "\n",
      "0: 576x1024 1 basketball, 10 players, 1 rim, 57.3ms\n",
      "Speed: 10.1ms preprocess, 57.3ms inference, 3.1ms postprocess per image at shape (1, 3, 576, 1024)\n",
      "\n",
      "0: 576x1024 1 basketball, 11 players, 1 rim, 61.6ms\n",
      "Speed: 9.0ms preprocess, 61.6ms inference, 4.0ms postprocess per image at shape (1, 3, 576, 1024)\n",
      "\n",
      "0: 576x1024 1 basketball, 10 players, 1 rim, 54.7ms\n",
      "Speed: 9.4ms preprocess, 54.7ms inference, 2.1ms postprocess per image at shape (1, 3, 576, 1024)\n",
      "\n",
      "0: 576x1024 1 basketball, 10 players, 1 rim, 56.3ms\n",
      "Speed: 7.7ms preprocess, 56.3ms inference, 3.4ms postprocess per image at shape (1, 3, 576, 1024)\n",
      "\n",
      "0: 576x1024 1 basketball, 10 players, 1 rim, 57.1ms\n",
      "Speed: 8.0ms preprocess, 57.1ms inference, 3.3ms postprocess per image at shape (1, 3, 576, 1024)\n",
      "\n",
      "0: 576x1024 1 basketball, 10 players, 1 rim, 58.3ms\n",
      "Speed: 8.0ms preprocess, 58.3ms inference, 3.2ms postprocess per image at shape (1, 3, 576, 1024)\n",
      "\n",
      "0: 576x1024 1 basketball, 8 players, 1 rim, 61.2ms\n",
      "Speed: 8.0ms preprocess, 61.2ms inference, 4.2ms postprocess per image at shape (1, 3, 576, 1024)\n",
      "\n",
      "0: 576x1024 2 basketballs, 9 players, 1 rim, 59.9ms\n",
      "Speed: 8.4ms preprocess, 59.9ms inference, 3.0ms postprocess per image at shape (1, 3, 576, 1024)\n",
      "\n",
      "0: 576x1024 1 basketball, 9 players, 1 rim, 58.0ms\n",
      "Speed: 8.9ms preprocess, 58.0ms inference, 4.0ms postprocess per image at shape (1, 3, 576, 1024)\n",
      "\n",
      "0: 576x1024 9 players, 1 rim, 59.5ms\n",
      "Speed: 8.4ms preprocess, 59.5ms inference, 4.0ms postprocess per image at shape (1, 3, 576, 1024)\n",
      "\n",
      "0: 576x1024 1 basketball, 1 made-shot, 5 players, 2 rims, 59.1ms\n",
      "Speed: 8.9ms preprocess, 59.1ms inference, 4.1ms postprocess per image at shape (1, 3, 576, 1024)\n",
      "\n",
      "0: 576x1024 1 made-shot, 6 players, 2 rims, 60.0ms\n",
      "Speed: 8.0ms preprocess, 60.0ms inference, 4.0ms postprocess per image at shape (1, 3, 576, 1024)\n",
      "\n",
      "0: 576x1024 1 basketball, 1 made-shot, 5 players, 2 rims, 58.0ms\n",
      "Speed: 8.4ms preprocess, 58.0ms inference, 4.0ms postprocess per image at shape (1, 3, 576, 1024)\n",
      "\n",
      "0: 576x1024 1 made-shot, 8 players, 2 rims, 59.7ms\n",
      "Speed: 9.0ms preprocess, 59.7ms inference, 3.0ms postprocess per image at shape (1, 3, 576, 1024)\n",
      "\n",
      "0: 576x1024 1 basketball, 1 made-shot, 8 players, 2 rims, 57.0ms\n",
      "Speed: 9.1ms preprocess, 57.0ms inference, 4.0ms postprocess per image at shape (1, 3, 576, 1024)\n",
      "\n",
      "0: 576x1024 1 made-shot, 6 players, 2 rims, 56.9ms\n",
      "Speed: 8.0ms preprocess, 56.9ms inference, 4.0ms postprocess per image at shape (1, 3, 576, 1024)\n",
      "\n",
      "0: 576x1024 1 basketball, 1 made-shot, 5 players, 1 rim, 56.6ms\n",
      "Speed: 9.0ms preprocess, 56.6ms inference, 4.2ms postprocess per image at shape (1, 3, 576, 1024)\n",
      "\n",
      "0: 576x1024 1 basketball, 1 made-shot, 6 players, 1 rim, 59.0ms\n",
      "Speed: 8.7ms preprocess, 59.0ms inference, 3.0ms postprocess per image at shape (1, 3, 576, 1024)\n",
      "\n",
      "0: 576x1024 2 basketballs, 1 made-shot, 9 players, 1 rim, 56.7ms\n",
      "Speed: 8.6ms preprocess, 56.7ms inference, 4.0ms postprocess per image at shape (1, 3, 576, 1024)\n",
      "\n",
      "0: 576x1024 1 basketball, 1 made-shot, 9 players, 1 rim, 59.0ms\n",
      "Speed: 9.0ms preprocess, 59.0ms inference, 3.0ms postprocess per image at shape (1, 3, 576, 1024)\n",
      "\n",
      "0: 576x1024 2 basketballs, 1 made-shot, 6 players, 1 rim, 58.0ms\n",
      "Speed: 8.0ms preprocess, 58.0ms inference, 3.0ms postprocess per image at shape (1, 3, 576, 1024)\n",
      "\n",
      "0: 576x1024 2 basketballs, 1 made-shot, 9 players, 2 rims, 58.9ms\n",
      "Speed: 10.6ms preprocess, 58.9ms inference, 4.5ms postprocess per image at shape (1, 3, 576, 1024)\n",
      "\n",
      "0: 576x1024 1 basketball, 10 players, 1 rim, 57.2ms\n",
      "Speed: 10.4ms preprocess, 57.2ms inference, 4.6ms postprocess per image at shape (1, 3, 576, 1024)\n",
      "\n",
      "0: 576x1024 2 basketballs, 10 players, 1 rim, 59.0ms\n",
      "Speed: 9.0ms preprocess, 59.0ms inference, 3.0ms postprocess per image at shape (1, 3, 576, 1024)\n",
      "\n",
      "0: 576x1024 1 basketball, 10 players, 1 rim, 60.2ms\n",
      "Speed: 9.5ms preprocess, 60.2ms inference, 4.5ms postprocess per image at shape (1, 3, 576, 1024)\n",
      "\n",
      "0: 576x1024 1 basketball, 10 players, 1 rim, 59.8ms\n",
      "Speed: 9.0ms preprocess, 59.8ms inference, 3.0ms postprocess per image at shape (1, 3, 576, 1024)\n",
      "\n",
      "0: 576x1024 2 basketballs, 10 players, 1 rim, 62.4ms\n",
      "Speed: 9.7ms preprocess, 62.4ms inference, 5.0ms postprocess per image at shape (1, 3, 576, 1024)\n",
      "\n",
      "0: 576x1024 1 basketball, 10 players, 1 rim, 56.0ms\n",
      "Speed: 9.0ms preprocess, 56.0ms inference, 4.0ms postprocess per image at shape (1, 3, 576, 1024)\n",
      "\n",
      "0: 576x1024 2 basketballs, 10 players, 1 rim, 58.3ms\n",
      "Speed: 9.6ms preprocess, 58.3ms inference, 3.0ms postprocess per image at shape (1, 3, 576, 1024)\n",
      "\n",
      "0: 576x1024 1 basketball, 10 players, 1 rim, 59.0ms\n",
      "Speed: 9.0ms preprocess, 59.0ms inference, 5.0ms postprocess per image at shape (1, 3, 576, 1024)\n",
      "\n",
      "0: 576x1024 1 basketball, 10 players, 1 rim, 59.6ms\n",
      "Speed: 9.7ms preprocess, 59.6ms inference, 3.5ms postprocess per image at shape (1, 3, 576, 1024)\n",
      "\n",
      "0: 576x1024 9 players, 1 rim, 59.4ms\n",
      "Speed: 8.5ms preprocess, 59.4ms inference, 3.0ms postprocess per image at shape (1, 3, 576, 1024)\n",
      "\n",
      "0: 576x1024 1 basketball, 9 players, 1 rim, 60.5ms\n",
      "Speed: 9.1ms preprocess, 60.5ms inference, 4.9ms postprocess per image at shape (1, 3, 576, 1024)\n",
      "\n",
      "0: 576x1024 1 basketball, 10 players, 1 rim, 59.5ms\n",
      "Speed: 8.0ms preprocess, 59.5ms inference, 3.0ms postprocess per image at shape (1, 3, 576, 1024)\n",
      "\n",
      "0: 576x1024 1 basketball, 11 players, 1 rim, 55.8ms\n",
      "Speed: 8.1ms preprocess, 55.8ms inference, 2.1ms postprocess per image at shape (1, 3, 576, 1024)\n",
      "\n",
      "0: 576x1024 1 basketball, 11 players, 1 rim, 55.3ms\n",
      "Speed: 9.3ms preprocess, 55.3ms inference, 4.0ms postprocess per image at shape (1, 3, 576, 1024)\n",
      "\n",
      "0: 576x1024 1 basketball, 9 players, 1 rim, 55.7ms\n",
      "Speed: 8.7ms preprocess, 55.7ms inference, 3.0ms postprocess per image at shape (1, 3, 576, 1024)\n",
      "\n",
      "0: 576x1024 1 basketball, 9 players, 1 rim, 56.7ms\n",
      "Speed: 7.9ms preprocess, 56.7ms inference, 2.6ms postprocess per image at shape (1, 3, 576, 1024)\n",
      "\n",
      "0: 576x1024 1 basketball, 9 players, 1 rim, 55.3ms\n",
      "Speed: 8.0ms preprocess, 55.3ms inference, 3.1ms postprocess per image at shape (1, 3, 576, 1024)\n",
      "\n",
      "0: 576x1024 1 basketball, 8 players, 1 rim, 56.1ms\n",
      "Speed: 7.8ms preprocess, 56.1ms inference, 4.0ms postprocess per image at shape (1, 3, 576, 1024)\n",
      "\n",
      "0: 576x1024 1 basketball, 10 players, 1 rim, 58.7ms\n",
      "Speed: 9.0ms preprocess, 58.7ms inference, 2.0ms postprocess per image at shape (1, 3, 576, 1024)\n",
      "\n",
      "0: 576x1024 1 basketball, 9 players, 1 rim, 57.4ms\n",
      "Speed: 8.2ms preprocess, 57.4ms inference, 4.4ms postprocess per image at shape (1, 3, 576, 1024)\n",
      "\n",
      "0: 576x1024 1 basketball, 11 players, 1 rim, 55.1ms\n",
      "Speed: 10.0ms preprocess, 55.1ms inference, 3.0ms postprocess per image at shape (1, 3, 576, 1024)\n",
      "\n",
      "0: 576x1024 2 basketballs, 10 players, 1 rim, 55.3ms\n",
      "Speed: 8.7ms preprocess, 55.3ms inference, 2.0ms postprocess per image at shape (1, 3, 576, 1024)\n",
      "\n",
      "0: 576x1024 1 basketball, 10 players, 1 rim, 55.2ms\n",
      "Speed: 11.4ms preprocess, 55.2ms inference, 3.3ms postprocess per image at shape (1, 3, 576, 1024)\n",
      "\n",
      "0: 576x1024 1 basketball, 10 players, 1 rim, 54.4ms\n",
      "Speed: 8.5ms preprocess, 54.4ms inference, 2.0ms postprocess per image at shape (1, 3, 576, 1024)\n",
      "\n",
      "0: 576x1024 10 players, 1 rim, 56.6ms\n",
      "Speed: 9.1ms preprocess, 56.6ms inference, 3.5ms postprocess per image at shape (1, 3, 576, 1024)\n",
      "\n",
      "0: 576x1024 1 basketball, 10 players, 1 rim, 55.8ms\n",
      "Speed: 8.6ms preprocess, 55.8ms inference, 3.0ms postprocess per image at shape (1, 3, 576, 1024)\n",
      "\n",
      "0: 576x1024 10 players, 1 rim, 55.5ms\n",
      "Speed: 9.2ms preprocess, 55.5ms inference, 3.0ms postprocess per image at shape (1, 3, 576, 1024)\n",
      "\n",
      "0: 576x1024 10 players, 1 rim, 53.4ms\n",
      "Speed: 11.5ms preprocess, 53.4ms inference, 4.0ms postprocess per image at shape (1, 3, 576, 1024)\n",
      "\n",
      "0: 576x1024 10 players, 1 rim, 55.4ms\n",
      "Speed: 9.0ms preprocess, 55.4ms inference, 3.0ms postprocess per image at shape (1, 3, 576, 1024)\n",
      "\n",
      "0: 576x1024 1 basketball, 10 players, 1 rim, 58.7ms\n",
      "Speed: 7.6ms preprocess, 58.7ms inference, 3.0ms postprocess per image at shape (1, 3, 576, 1024)\n",
      "\n",
      "0: 576x1024 1 basketball, 10 players, 1 rim, 55.5ms\n",
      "Speed: 7.2ms preprocess, 55.5ms inference, 3.3ms postprocess per image at shape (1, 3, 576, 1024)\n",
      "\n",
      "0: 576x1024 1 basketball, 10 players, 1 rim, 56.3ms\n",
      "Speed: 9.0ms preprocess, 56.3ms inference, 3.6ms postprocess per image at shape (1, 3, 576, 1024)\n",
      "\n",
      "0: 576x1024 1 basketball, 10 players, 1 rim, 57.7ms\n",
      "Speed: 7.6ms preprocess, 57.7ms inference, 3.3ms postprocess per image at shape (1, 3, 576, 1024)\n",
      "\n",
      "0: 576x1024 1 basketball, 10 players, 1 rim, 59.8ms\n",
      "Speed: 8.0ms preprocess, 59.8ms inference, 3.0ms postprocess per image at shape (1, 3, 576, 1024)\n",
      "\n",
      "0: 576x1024 1 basketball, 10 players, 1 rim, 60.0ms\n",
      "Speed: 8.7ms preprocess, 60.0ms inference, 3.7ms postprocess per image at shape (1, 3, 576, 1024)\n",
      "\n",
      "0: 576x1024 11 players, 1 rim, 54.9ms\n",
      "Speed: 8.7ms preprocess, 54.9ms inference, 4.0ms postprocess per image at shape (1, 3, 576, 1024)\n",
      "\n",
      "0: 576x1024 10 players, 1 rim, 56.3ms\n",
      "Speed: 8.5ms preprocess, 56.3ms inference, 3.1ms postprocess per image at shape (1, 3, 576, 1024)\n",
      "\n",
      "0: 576x1024 9 players, 1 rim, 56.6ms\n",
      "Speed: 6.5ms preprocess, 56.6ms inference, 4.4ms postprocess per image at shape (1, 3, 576, 1024)\n",
      "\n",
      "0: 576x1024 1 basketball, 11 players, 1 rim, 56.0ms\n",
      "Speed: 9.4ms preprocess, 56.0ms inference, 4.0ms postprocess per image at shape (1, 3, 576, 1024)\n",
      "\n",
      "0: 576x1024 1 basketball, 11 players, 1 rim, 55.0ms\n",
      "Speed: 9.0ms preprocess, 55.0ms inference, 4.0ms postprocess per image at shape (1, 3, 576, 1024)\n",
      "\n",
      "0: 576x1024 10 players, 1 rim, 58.0ms\n",
      "Speed: 8.2ms preprocess, 58.0ms inference, 4.0ms postprocess per image at shape (1, 3, 576, 1024)\n",
      "\n",
      "0: 576x1024 12 players, 1 rim, 59.0ms\n",
      "Speed: 10.0ms preprocess, 59.0ms inference, 4.0ms postprocess per image at shape (1, 3, 576, 1024)\n",
      "\n",
      "0: 576x1024 1 basketball, 11 players, 1 rim, 58.2ms\n",
      "Speed: 9.0ms preprocess, 58.2ms inference, 3.3ms postprocess per image at shape (1, 3, 576, 1024)\n",
      "\n",
      "0: 576x1024 11 players, 1 rim, 56.0ms\n",
      "Speed: 9.4ms preprocess, 56.0ms inference, 3.0ms postprocess per image at shape (1, 3, 576, 1024)\n",
      "\n",
      "0: 576x1024 11 players, 1 rim, 61.0ms\n",
      "Speed: 8.3ms preprocess, 61.0ms inference, 3.0ms postprocess per image at shape (1, 3, 576, 1024)\n",
      "\n",
      "0: 576x1024 11 players, 1 rim, 55.0ms\n",
      "Speed: 9.1ms preprocess, 55.0ms inference, 3.0ms postprocess per image at shape (1, 3, 576, 1024)\n",
      "\n",
      "0: 576x1024 10 players, 1 rim, 58.1ms\n",
      "Speed: 8.9ms preprocess, 58.1ms inference, 2.0ms postprocess per image at shape (1, 3, 576, 1024)\n",
      "\n",
      "0: 576x1024 1 basketball, 11 players, 1 rim, 55.7ms\n",
      "Speed: 8.5ms preprocess, 55.7ms inference, 3.6ms postprocess per image at shape (1, 3, 576, 1024)\n",
      "\n",
      "0: 576x1024 1 basketball, 10 players, 1 rim, 58.1ms\n",
      "Speed: 9.1ms preprocess, 58.1ms inference, 4.6ms postprocess per image at shape (1, 3, 576, 1024)\n",
      "\n",
      "0: 576x1024 11 players, 1 rim, 56.2ms\n",
      "Speed: 8.7ms preprocess, 56.2ms inference, 3.1ms postprocess per image at shape (1, 3, 576, 1024)\n",
      "\n",
      "0: 576x1024 11 players, 1 rim, 56.9ms\n",
      "Speed: 8.5ms preprocess, 56.9ms inference, 3.0ms postprocess per image at shape (1, 3, 576, 1024)\n",
      "\n",
      "0: 576x1024 10 players, 1 rim, 55.0ms\n",
      "Speed: 9.2ms preprocess, 55.0ms inference, 3.1ms postprocess per image at shape (1, 3, 576, 1024)\n",
      "\n",
      "0: 576x1024 1 basketball, 11 players, 1 rim, 60.8ms\n",
      "Speed: 8.6ms preprocess, 60.8ms inference, 3.0ms postprocess per image at shape (1, 3, 576, 1024)\n",
      "\n",
      "0: 576x1024 10 players, 1 rim, 57.4ms\n",
      "Speed: 8.7ms preprocess, 57.4ms inference, 3.7ms postprocess per image at shape (1, 3, 576, 1024)\n",
      "\n",
      "0: 576x1024 11 players, 1 rim, 57.5ms\n",
      "Speed: 11.5ms preprocess, 57.5ms inference, 4.1ms postprocess per image at shape (1, 3, 576, 1024)\n",
      "\n",
      "0: 576x1024 11 players, 1 rim, 56.4ms\n",
      "Speed: 8.3ms preprocess, 56.4ms inference, 2.4ms postprocess per image at shape (1, 3, 576, 1024)\n",
      "\n",
      "0: 576x1024 10 players, 1 rim, 56.9ms\n",
      "Speed: 7.5ms preprocess, 56.9ms inference, 3.0ms postprocess per image at shape (1, 3, 576, 1024)\n",
      "\n",
      "0: 576x1024 10 players, 1 rim, 57.0ms\n",
      "Speed: 9.0ms preprocess, 57.0ms inference, 4.0ms postprocess per image at shape (1, 3, 576, 1024)\n",
      "\n",
      "0: 576x1024 11 players, 1 rim, 55.0ms\n",
      "Speed: 6.9ms preprocess, 55.0ms inference, 3.0ms postprocess per image at shape (1, 3, 576, 1024)\n",
      "\n",
      "0: 576x1024 10 players, 1 rim, 56.5ms\n",
      "Speed: 8.2ms preprocess, 56.5ms inference, 2.0ms postprocess per image at shape (1, 3, 576, 1024)\n",
      "\n",
      "0: 576x1024 10 players, 1 rim, 61.0ms\n",
      "Speed: 7.7ms preprocess, 61.0ms inference, 5.0ms postprocess per image at shape (1, 3, 576, 1024)\n",
      "Video procesado guardado en ../output/ClipLF1_output.mp4\n"
     ]
    }
   ],
   "source": [
    "import cv2\n",
    "from ultralytics import YOLO\n",
    "\n",
    "object_detector = YOLO(\"./runs/detect/bod_v1/weights/best.pt\")\n",
    "\n",
    "video_path = \"../clips/ClipLF1.mp4\"\n",
    "output_path = \"../output/ClipLF1_output.mp4\"\n",
    "\n",
    "cap = cv2.VideoCapture(video_path)\n",
    "fourcc = cv2.VideoWriter_fourcc(*\"avc1\")\n",
    "fps = int(cap.get(cv2.CAP_PROP_FPS))\n",
    "width = int(cap.get(cv2.CAP_PROP_FRAME_WIDTH))\n",
    "height = int(cap.get(cv2.CAP_PROP_FRAME_HEIGHT))\n",
    "\n",
    "out = cv2.VideoWriter(output_path, fourcc, fps, (width, height))\n",
    "\n",
    "while cap.isOpened():\n",
    "    ret, frame = cap.read()\n",
    "    if not ret:\n",
    "        break\n",
    "\n",
    "    object_detection_results = object_detector(frame)\n",
    "\n",
    "    # Análisis de las detecciones de jugadores\n",
    "    for result in object_detection_results[0].boxes.data.tolist():  # Obtener los resultados como lista\n",
    "        x1, y1, x2, y2, conf, cls = result  # Coordenadas, confianza y clase\n",
    "        cls = int(cls)\n",
    "\n",
    "        # Filtrar solo por las clases deseadas\n",
    "        if object_detector.names[cls] in ['player', 'basketball', 'rim', 'made-shot'] and conf > 0.5:\n",
    "\n",
    "            # Calcular la posición como el punto medio del borde inferior de la bbox\n",
    "            position = (int((x1 + x2) / 2), y2)\n",
    "            position_label = f\"x:{int(position[0])} y:{int(position[1])}\"\n",
    "\n",
    "            label = f\"{object_detector.names[cls]} {conf:.2f}\"\n",
    "\n",
    "            drawBBox(frame, x1, y1, x2, y2, label, object_detector.names[cls])\n",
    "\n",
    "            # Dibujar la posición en el frame\n",
    "            if object_detector.names[cls] == 'player' or object_detector.names[cls] == 'basketball':\n",
    "                drawPosition(frame, position, position_label)\n",
    "\n",
    "\n",
    "    # Mostrar el frame procesado en pantalla\n",
    "    cv2.imshow('Resultados', frame)\n",
    "\n",
    "    # Escribir el frame procesado en el video de salida\n",
    "    out.write(frame)\n",
    "\n",
    "    # Esperar por una tecla: espacio para avanzar, 'q' para salir\n",
    "    key = cv2.waitKey(0) & 0xFF  # Espera indefinidamente hasta que se presione una tecla\n",
    "    if key == ord('q'):\n",
    "        break\n",
    "    elif key == ord(' '):  # Espacio para continuar\n",
    "        # Escribir el frame procesado en el video de salida\n",
    "        out.write(frame)\n",
    "\n",
    "\n",
    "# Liberar recursos\n",
    "cap.release()\n",
    "out.release()\n",
    "cv2.destroyAllWindows()\n",
    "\n",
    "print(f\"Video procesado guardado en {output_path}\")\n"
   ]
  }
 ],
 "metadata": {
  "kernelspec": {
   "display_name": "tft",
   "language": "python",
   "name": "python3"
  },
  "language_info": {
   "codemirror_mode": {
    "name": "ipython",
    "version": 3
   },
   "file_extension": ".py",
   "mimetype": "text/x-python",
   "name": "python",
   "nbconvert_exporter": "python",
   "pygments_lexer": "ipython3",
   "version": "3.12.9"
  }
 },
 "nbformat": 4,
 "nbformat_minor": 2
}
