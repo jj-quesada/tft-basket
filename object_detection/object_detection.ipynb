{
 "cells": [
  {
   "cell_type": "markdown",
   "metadata": {},
   "source": [
    "Comprobación de PyTorch y uso de la GPU"
   ]
  },
  {
   "cell_type": "code",
   "execution_count": null,
   "metadata": {},
   "outputs": [],
   "source": [
    "import torch\n",
    "\n",
    "print(f\"Versión de PyTorch: {torch.__version__}\")\n",
    "print(f\"Versión de CUDA en PyTorch: {torch.version.cuda}\")\n",
    "print(f\"¿CUDA está disponible?: {torch.cuda.is_available()}\")\n",
    "print(torch.cuda.get_device_name(0))"
   ]
  },
  {
   "cell_type": "markdown",
   "metadata": {},
   "source": [
    "Entrenamiento de las redes"
   ]
  },
  {
   "cell_type": "code",
   "execution_count": null,
   "metadata": {},
   "outputs": [],
   "source": [
    "from ultralytics import YOLO\n",
    "\n",
    "model = YOLO(\"yolo11n.pt\")\n",
    "\n",
    "results = model.train(data=\"./datasets/rim_detection/data.yaml\", imgsz=640, batch=16, device=0, epochs=60, task=\"detect\")"
   ]
  },
  {
   "cell_type": "markdown",
   "metadata": {},
   "source": [
    "Librerías, paquetes y funciones importadas"
   ]
  },
  {
   "cell_type": "code",
   "execution_count": null,
   "metadata": {},
   "outputs": [],
   "source": [
    "def drawBBox(frame, x1, y1, x2, y2, label):\n",
    "    cv2.rectangle(frame, (int(x1), int(y1)), (int(x2), int(y2)), (255, 0, 0), 2)\n",
    "    cv2.putText(frame, label, (int(x1), int(y1) - 10), cv2.FONT_HERSHEY_SIMPLEX, 0.5, (100, 200, 100), 2)\n",
    "\n",
    "def drawPosition(frame, position, position_label):\n",
    "    cv2.ellipse(frame, (int(position[0]), int(position[1])), (9, 3), 0, 0, 360, (0, 0, 255), -1)\n",
    "    cv2.putText(frame, position_label, (int(position[0]) - 50, int(position[1]) + 25), cv2.FONT_HERSHEY_SIMPLEX, 0.5, (0, 0, 255), 2)"
   ]
  },
  {
   "cell_type": "code",
   "execution_count": null,
   "metadata": {},
   "outputs": [],
   "source": [
    "import cv2\n",
    "from ultralytics import YOLO\n",
    "\n",
    "object_detector = YOLO(\"./runs/detect/object_detection_v2/weights/best.pt\")\n",
    "ball_detector = YOLO(\"./runs/detect/ball_detection/weights/best.pt\")\n",
    "rim_detector = YOLO(\"./runs/detect/rim_detection/weights/best.pt\")\n",
    "\n",
    "video_path = \"../clips/Clip1LF.mp4\"\n",
    "output_path = \"../output/Clip1LF_output.mp4\"\n",
    "\n",
    "cap = cv2.VideoCapture(video_path)\n",
    "fourcc = cv2.VideoWriter_fourcc(*\"avc1\")\n",
    "fps = int(cap.get(cv2.CAP_PROP_FPS))\n",
    "width = int(cap.get(cv2.CAP_PROP_FRAME_WIDTH))\n",
    "height = int(cap.get(cv2.CAP_PROP_FRAME_HEIGHT))\n",
    "\n",
    "out = cv2.VideoWriter(output_path, fourcc, fps, (width, height))\n",
    "\n",
    "while cap.isOpened():\n",
    "    ret, frame = cap.read()\n",
    "    if not ret:\n",
    "        break\n",
    "\n",
    "    object_detection_results = object_detector(frame)\n",
    "    ball_detection_results = ball_detector(frame)\n",
    "    rim_detection_results = rim_detector(frame)\n",
    "\n",
    "    # Análisis de las detecciones de jugadores\n",
    "    for result in object_detection_results[0].boxes.data.tolist():  # Obtener los resultados como lista\n",
    "        x1, y1, x2, y2, conf, cls = result  # Coordenadas, confianza y clase\n",
    "        cls = int(cls)\n",
    "\n",
    "        # Filtrar solo por las clases deseadas\n",
    "        if object_detector.names[cls] in ['player'] and conf > 0.5:\n",
    "\n",
    "            # Calcular la posición como el punto medio del borde inferior de la bbox\n",
    "            position = (int((x1 + x2) / 2), y2)\n",
    "            position_label = f\"x:{int(position[0])} y:{int(position[1])}\"\n",
    "\n",
    "            label = f\"{object_detector.names[cls]} {conf:.2f}\"\n",
    "\n",
    "            # Si la clase es 'player', clasificar el equipo y dibujar la bbox en el frame\n",
    "            if object_detector.names[cls] == 'player':\n",
    "                drawBBox(frame, x1, y1, x2, y2, label)\n",
    "\n",
    "            \"\"\" \n",
    "            # Si la clase es 'referee', dibujar la bbox en el frame\n",
    "            if object_detector.names[cls] == 'referee':\n",
    "                drawBBox(frame, x1, y1, x2, y2, label) \n",
    "            \"\"\"\n",
    "\n",
    "            # Dibujar la posición en el frame\n",
    "            drawPosition(frame, position, position_label)\n",
    "\n",
    "\n",
    "    # Mostrar el frame procesado en pantalla\n",
    "    cv2.imshow('Resultados', frame)\n",
    "\n",
    "    # Escribir el frame procesado en el video de salida\n",
    "    out.write(frame)\n",
    "\n",
    "    # Esperar por una tecla: espacio para avanzar, 'q' para salir\n",
    "    key = cv2.waitKey(0) & 0xFF  # Espera indefinidamente hasta que se presione una tecla\n",
    "    if key == ord('q'):\n",
    "        break\n",
    "    elif key == ord(' '):  # Espacio para continuar\n",
    "        # Escribir el frame procesado en el video de salida\n",
    "        out.write(frame)\n",
    "\n",
    "\n",
    "# Liberar recursos\n",
    "cap.release()\n",
    "out.release()\n",
    "cv2.destroyAllWindows()\n",
    "\n",
    "print(f\"Video procesado guardado en {output_path}\")\n"
   ]
  }
 ],
 "metadata": {
  "kernelspec": {
   "display_name": "tft",
   "language": "python",
   "name": "python3"
  },
  "language_info": {
   "codemirror_mode": {
    "name": "ipython",
    "version": 3
   },
   "file_extension": ".py",
   "mimetype": "text/x-python",
   "name": "python",
   "nbconvert_exporter": "python",
   "pygments_lexer": "ipython3",
   "version": "3.12.9"
  }
 },
 "nbformat": 4,
 "nbformat_minor": 2
}
