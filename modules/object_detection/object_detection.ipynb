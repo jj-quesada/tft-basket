{
 "cells": [
  {
   "cell_type": "markdown",
   "metadata": {},
   "source": [
    "Comprobación de PyTorch y uso de la GPU"
   ]
  },
  {
   "cell_type": "code",
   "execution_count": null,
   "metadata": {},
   "outputs": [],
   "source": [
    "import torch\n",
    "\n",
    "print(f\"Versión de PyTorch: {torch.__version__}\")\n",
    "print(f\"Versión de CUDA en PyTorch: {torch.version.cuda}\")\n",
    "print(f\"¿CUDA está disponible?: {torch.cuda.is_available()}\")\n",
    "print(torch.cuda.get_device_name(0))"
   ]
  },
  {
   "cell_type": "markdown",
   "metadata": {},
   "source": [
    "Entrenamiento de las redes"
   ]
  },
  {
   "cell_type": "code",
   "execution_count": null,
   "metadata": {},
   "outputs": [],
   "source": [
    "from ultralytics import YOLO\n",
    "\n",
    "model = YOLO(\"yolo11n.pt\")\n",
    "\n",
    "results = model.train(data=\"./datasets/bod_v1/data.yaml\", \n",
    "                      device=0,\n",
    "                      batch=8, \n",
    "                      epochs=100,\n",
    "                      imgsz=1024, \n",
    "                      optimizer='SGD', \n",
    "                      lr0=0.01, \n",
    "                      lrf=0.1, \n",
    "                      weight_decay=0.0005, \n",
    "                      task=\"detect\")"
   ]
  },
  {
   "cell_type": "markdown",
   "metadata": {},
   "source": [
    "Librerías, paquetes y funciones importadas"
   ]
  },
  {
   "cell_type": "code",
   "execution_count": null,
   "metadata": {},
   "outputs": [],
   "source": [
    "def getColor(class_name):\n",
    "    switch = {\n",
    "        'player': (255, 0, 0),       # Azul\n",
    "        'basketball': (0, 165, 255), # Naranja\n",
    "        'rim': (0, 0, 255),          # Rojo\n",
    "        'made-shot': (0, 255, 0)     # Verde\n",
    "    }\n",
    "    return switch.get(class_name, (0, 0, 0)) \n",
    "\n",
    "def drawBBox(frame, x1, y1, x2, y2, label, class_name):\n",
    "    color = getColor(class_name)\n",
    "    cv2.rectangle(frame, (int(x1), int(y1)), (int(x2), int(y2)), color, 2)\n",
    "    cv2.putText(frame, label, (int(x1), int(y1) - 10), cv2.FONT_HERSHEY_SIMPLEX, 0.5, (255, 255, 255), 2)\n",
    "\n",
    "def drawPosition(frame, position, position_label):\n",
    "    cv2.ellipse(frame, (int(position[0]), int(position[1])), (9, 3), 0, 0, 360, (0, 0, 255), -1)\n",
    "    cv2.putText(frame, position_label, (int(position[0]) - 50, int(position[1]) + 25), cv2.FONT_HERSHEY_SIMPLEX, 0.5, (0, 0, 255), 2)"
   ]
  },
  {
   "cell_type": "code",
   "execution_count": null,
   "metadata": {},
   "outputs": [],
   "source": [
    "import cv2\n",
    "from ultralytics import YOLO\n",
    "\n",
    "object_detector = YOLO(\"./runs/detect/bod_v1/weights/best.pt\")\n",
    "\n",
    "video_path = \"../../assets/clips/ClipLF1.mp4\"\n",
    "output_path = \"../output/ClipLF1_output.mp4\"\n",
    "\n",
    "cap = cv2.VideoCapture(video_path)\n",
    "fourcc = cv2.VideoWriter_fourcc(*\"avc1\")\n",
    "fps = int(cap.get(cv2.CAP_PROP_FPS))\n",
    "width = int(cap.get(cv2.CAP_PROP_FRAME_WIDTH))\n",
    "height = int(cap.get(cv2.CAP_PROP_FRAME_HEIGHT))\n",
    "\n",
    "out = cv2.VideoWriter(output_path, fourcc, fps, (width, height))\n",
    "\n",
    "while cap.isOpened():\n",
    "    ret, frame = cap.read()\n",
    "    if not ret:\n",
    "        break\n",
    "\n",
    "    object_detection_results = object_detector(frame)\n",
    "\n",
    "    # Análisis de las detecciones de jugadores\n",
    "    for result in object_detection_results[0].boxes.data.tolist():      # Obtener los resultados como lista\n",
    "        x1, y1, x2, y2, conf, cls = result                              # Coordenadas, confianza y clase\n",
    "        cls = int(cls)\n",
    "        label_name = object_detector.names[cls]\n",
    "\n",
    "        # Filtrar solo por las clases deseadas y aplicar umbrales de confianza\n",
    "        if (label_name in ['player', 'rim'] and conf > 0.7) or \\\n",
    "            (label_name == 'basketball' and conf > 0.5) or \\\n",
    "            (label_name == 'made-shot' and conf > 0.3):\n",
    "\n",
    "            # Generar una etiqueta con la clase y la confianza\n",
    "            label = f\"{label_name} {conf:.2f}\"\n",
    "\n",
    "            # Dibujar la caja de detección en el frame\n",
    "            drawBBox(frame, x1, y1, x2, y2, label, label_name)\n",
    "\n",
    "            # Calcular la posición como el punto medio del borde inferior de la bbox\n",
    "            position = (int((x1 + x2) / 2), y2)\n",
    "            position_label = f\"x:{int(position[0])} y:{int(position[1])}\"\n",
    "\n",
    "            # Dibujar la posición en el frame\n",
    "            if label_name == 'player':\n",
    "                drawPosition(frame, position, position_label)\n",
    "\n",
    "\n",
    "    # Mostrar el frame procesado en pantalla\n",
    "    cv2.imshow('Resultados', frame)\n",
    "\n",
    "    # Esperar por una tecla: espacio para avanzar, 'q' para salir\n",
    "    key = cv2.waitKey(0) & 0xFF  # Espera indefinidamente hasta que se presione una tecla\n",
    "    if key == ord('q'):\n",
    "        break\n",
    "    elif key == ord(' '):  # Espacio para continuar\n",
    "        # Escribir el frame procesado en el video de salida\n",
    "        print()\n",
    "\n",
    "\n",
    "# Liberar recursos\n",
    "cap.release()\n",
    "out.release()\n",
    "cv2.destroyAllWindows()\n",
    "\n",
    "print(f\"Video procesado guardado en {output_path}\")\n"
   ]
  }
 ],
 "metadata": {
  "kernelspec": {
   "display_name": "tftv2",
   "language": "python",
   "name": "python3"
  },
  "language_info": {
   "codemirror_mode": {
    "name": "ipython",
    "version": 3
   },
   "file_extension": ".py",
   "mimetype": "text/x-python",
   "name": "python",
   "nbconvert_exporter": "python",
   "pygments_lexer": "ipython3",
   "version": "3.10.16"
  }
 },
 "nbformat": 4,
 "nbformat_minor": 2
}
